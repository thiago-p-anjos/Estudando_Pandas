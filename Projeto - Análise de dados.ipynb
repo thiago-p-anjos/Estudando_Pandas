{
 "cells": [
  {
   "cell_type": "markdown",
   "id": "motivated-olympus",
   "metadata": {},
   "source": [
    "# Projeto final\n",
    "\n",
    "Bem vindo ao projeto final do curso/módulo de Pandas.\n",
    "Neste projeto, você deve responder a um conjunto de perguntas feitas a dois conjuntos de dados:\n",
    "\n",
    "1. [Obesity among adults by country, 1975-2016](https://www.kaggle.com/amanarora/obesity-among-adults-by-country-19752016/)\n",
    "2. [GDP Per Person (1901-2011)](https://www.kaggle.com/divyansh22/gdp-per-person-19012011?select=GDP.csv)\n",
    "\n",
    "Tais conjuntos de dados são públicos foram publicados no Kaggle. Mais instruções sobre cada um deles podem ser encontrados nos links acima. Você também os encontrará na pasta `Datasets`, dentro de nossas apostilas."
   ]
  },
  {
   "cell_type": "code",
   "execution_count": null,
   "id": "million-survival",
   "metadata": {},
   "outputs": [],
   "source": [
    "import pandas as pd\n",
    "import numpy as np"
   ]
  },
  {
   "cell_type": "markdown",
   "id": "becoming-princeton",
   "metadata": {},
   "source": [
    "## Perguntas - Obesity among adults by country, 1975-2016"
   ]
  },
  {
   "cell_type": "code",
   "execution_count": null,
   "id": "formal-heater",
   "metadata": {},
   "outputs": [],
   "source": [
    "df_obesity = pd.read_csv(\"Datasets/obesity_cleaned.csv\")"
   ]
  },
  {
   "cell_type": "markdown",
   "id": "divine-rebel",
   "metadata": {},
   "source": [
    "- Limpe os dados do DataFrame, criando uma coluna de nome 'Obesity' que conterá os valores de obesidade. Transforme em float as colunas que porventura foram importadas como string."
   ]
  },
  {
   "cell_type": "code",
   "execution_count": null,
   "id": "cubic-minneapolis",
   "metadata": {},
   "outputs": [],
   "source": [
    "df_obesity.info()"
   ]
  },
  {
   "cell_type": "code",
   "execution_count": null,
   "id": "ea3d9827",
   "metadata": {},
   "outputs": [],
   "source": [
    "df_obesity"
   ]
  },
  {
   "cell_type": "code",
   "execution_count": null,
   "id": "ff92994f",
   "metadata": {},
   "outputs": [],
   "source": [
    "#df_obesity = df_obesity.set_index('Unnamed: 0')\n",
    "del df_obesity['Unnamed: 0'] #Corrido pela aula"
   ]
  },
  {
   "cell_type": "code",
   "execution_count": null,
   "id": "db080f48",
   "metadata": {},
   "outputs": [],
   "source": [
    "df_obesity['Obesity (%)'].value_counts()"
   ]
  },
  {
   "cell_type": "code",
   "execution_count": null,
   "id": "3833f207",
   "metadata": {},
   "outputs": [],
   "source": [
    "# df_obesity['Obesity (%)'].apply(lambda x: x.split()[0]) Correção do Professor\n",
    "df_obesity['Obesity (%)'].str.split(' ', n=1, expand=True)[0]"
   ]
  },
  {
   "cell_type": "code",
   "execution_count": null,
   "id": "730fa14e",
   "metadata": {},
   "outputs": [],
   "source": [
    "# df_obesity['Obesity'] = df_obesity['Obesity (%)'].apply(lambda x: x.split()[0]) Correção do Professor\n",
    "df_obesity['Obesity'] = df_obesity['Obesity (%)'].str.split(' ', n=1, expand=True)[0]"
   ]
  },
  {
   "cell_type": "code",
   "execution_count": null,
   "id": "d5f3baa5",
   "metadata": {},
   "outputs": [],
   "source": [
    "df_obesity['Obesity']"
   ]
  },
  {
   "cell_type": "code",
   "execution_count": null,
   "id": "abeb6c72",
   "metadata": {},
   "outputs": [],
   "source": [
    "#Dados \"No\" separado quando eu fiz o split no \"No data\"\n",
    "#df_obesity.iloc[20800]\n",
    "\n",
    "#Utilizando value_counts() para verificar os \"No\"\n",
    "df_obesity['Obesity'].value_counts()"
   ]
  },
  {
   "cell_type": "code",
   "execution_count": null,
   "id": "0455129f",
   "metadata": {},
   "outputs": [],
   "source": [
    "#Usando o método replace() para substituir o \"No\" por valores nulo\n",
    "df_obesity['Obesity'] = df_obesity['Obesity'].replace(to_replace='No', value=np.NaN)\n",
    "\n",
    "# df_obesity.loc[df_obesity['Obesity'] == 'No', 'Obesity'] = np.nan Versão do Professor, funciona igual ao de cima"
   ]
  },
  {
   "cell_type": "code",
   "execution_count": null,
   "id": "4c50fb7b",
   "metadata": {},
   "outputs": [],
   "source": [
    "df_obesity['Obesity'].value_counts()"
   ]
  },
  {
   "cell_type": "code",
   "execution_count": null,
   "id": "3b677c25",
   "metadata": {},
   "outputs": [],
   "source": [
    "df_obesity['Obesity'].isnull().sum()"
   ]
  },
  {
   "cell_type": "code",
   "execution_count": null,
   "id": "64762789",
   "metadata": {},
   "outputs": [],
   "source": [
    "#Apagando as linhas cujo os valores são nulos\n",
    "df_obesity = df_obesity.dropna()"
   ]
  },
  {
   "cell_type": "code",
   "execution_count": null,
   "id": "56ccd89f",
   "metadata": {},
   "outputs": [],
   "source": [
    "df_obesity['Obesity'].isnull().sum()"
   ]
  },
  {
   "cell_type": "code",
   "execution_count": null,
   "id": "4cfdc8e9",
   "metadata": {},
   "outputs": [],
   "source": [
    "#usando a função de dataframe df.astype para definir a coluno como float\n",
    "df_obesity['Obesity'] = df_obesity['Obesity'].astype(float)\n",
    "\n",
    "# df_obesity['Obesity'] = df_obesity['Obesity'].apply(lambda x : float(x))"
   ]
  },
  {
   "cell_type": "code",
   "execution_count": null,
   "id": "22f1821f",
   "metadata": {},
   "outputs": [],
   "source": [
    "df_obesity.info()"
   ]
  },
  {
   "cell_type": "code",
   "execution_count": null,
   "id": "1dc7cc14",
   "metadata": {},
   "outputs": [],
   "source": []
  },
  {
   "cell_type": "markdown",
   "id": "voluntary-temperature",
   "metadata": {},
   "source": [
    "- Qual o percentual médio de obesidade por sexo no mundo no ano de 2015?"
   ]
  },
  {
   "cell_type": "code",
   "execution_count": null,
   "id": "086209ae",
   "metadata": {},
   "outputs": [],
   "source": [
    "#Correção pelo Professor\n",
    "df_obesity[df_obesity['Year'] == 2015].groupby('Sex').mean()"
   ]
  },
  {
   "cell_type": "code",
   "execution_count": null,
   "id": "afraid-reminder",
   "metadata": {},
   "outputs": [],
   "source": [
    "perc_med_male_2015 = df_obesity[(df_obesity['Year']==2015) & (df_obesity['Sex'] == \"Male\")]['Obesity'].mean()"
   ]
  },
  {
   "cell_type": "code",
   "execution_count": null,
   "id": "fbd365bd",
   "metadata": {},
   "outputs": [],
   "source": [
    "perc_med_female_2015 = df_obesity[(df_obesity['Year']==2015) & (df_obesity['Sex'] == \"Female\")]['Obesity'].mean()"
   ]
  },
  {
   "cell_type": "code",
   "execution_count": null,
   "id": "51257236",
   "metadata": {},
   "outputs": [],
   "source": [
    "perc_med_bothsexes_2015 = df_obesity[(df_obesity['Year']==2015) & (df_obesity['Sex'] == \"Both sexes\")]['Obesity'].mean()"
   ]
  },
  {
   "cell_type": "code",
   "execution_count": null,
   "id": "5820ee5c",
   "metadata": {},
   "outputs": [],
   "source": [
    "perc_med_male_2015"
   ]
  },
  {
   "cell_type": "code",
   "execution_count": null,
   "id": "b8173d44",
   "metadata": {},
   "outputs": [],
   "source": [
    "perc_med_female_2015"
   ]
  },
  {
   "cell_type": "code",
   "execution_count": null,
   "id": "2c2341cd",
   "metadata": {},
   "outputs": [],
   "source": [
    "perc_med_bothsexes_2015"
   ]
  },
  {
   "cell_type": "code",
   "execution_count": null,
   "id": "2a1d1ee3",
   "metadata": {},
   "outputs": [],
   "source": [
    "df_obesity['Sex'].unique()"
   ]
  },
  {
   "cell_type": "code",
   "execution_count": null,
   "id": "a7c25b68",
   "metadata": {},
   "outputs": [],
   "source": [
    "df_obesity['Country'].nunique()"
   ]
  },
  {
   "cell_type": "markdown",
   "id": "expected-kruger",
   "metadata": {},
   "source": [
    "- Quais são os 5 países com a maior e a menor taxa de aumento nos índices de obesidade no período observado?"
   ]
  },
  {
   "cell_type": "code",
   "execution_count": null,
   "id": "30567e1c",
   "metadata": {},
   "outputs": [],
   "source": [
    "df_obesity_inicio = df_obesity[(df_obesity['Year'] == df_obesity['Year'].min()) & (df_obesity['Sex'] == 'Both sexes')][['Obesity', 'Country']].set_index('Country')"
   ]
  },
  {
   "cell_type": "code",
   "execution_count": null,
   "id": "320701b2",
   "metadata": {},
   "outputs": [],
   "source": [
    "df_obesity_final = df_obesity[(df_obesity['Year'] == df_obesity['Year'].max()) & (df_obesity['Sex'] == 'Both sexes')][['Obesity', 'Country']].set_index('Country')"
   ]
  },
  {
   "cell_type": "code",
   "execution_count": null,
   "id": "cf6a5915",
   "metadata": {},
   "outputs": [],
   "source": [
    "df_obesity_evolucao = df_obesity_final - df_obesity_inicio"
   ]
  },
  {
   "cell_type": "code",
   "execution_count": null,
   "id": "d31f4da8",
   "metadata": {},
   "outputs": [],
   "source": [
    "df_obesity_evolucao['Obesity'].sort_values().head(5)"
   ]
  },
  {
   "cell_type": "code",
   "execution_count": null,
   "id": "c0bd43ef",
   "metadata": {},
   "outputs": [],
   "source": [
    "df_obesity_evolucao['Obesity'].sort_values().tail(5)"
   ]
  },
  {
   "cell_type": "code",
   "execution_count": null,
   "id": "phantom-going",
   "metadata": {},
   "outputs": [],
   "source": [
    "#df_obesity[df_obesity['Year'] == 2015]['Obesity'].max()"
   ]
  },
  {
   "cell_type": "code",
   "execution_count": null,
   "id": "874a2944",
   "metadata": {},
   "outputs": [],
   "source": [
    "#df_obesity[df_obesity['Year'] == 2015]['Obesity'].min()"
   ]
  },
  {
   "cell_type": "markdown",
   "id": "efficient-buyer",
   "metadata": {},
   "source": [
    "- Quais os países com maiores e menores níveis percetuais de obesidade em 2015?"
   ]
  },
  {
   "cell_type": "code",
   "execution_count": null,
   "id": "violent-warren",
   "metadata": {},
   "outputs": [],
   "source": [
    "id_pais_maior_obesidade = df_obesity[(df_obesity['Year'] == 2014) & (df_obesity['Sex'] == 'Both sexes')]['Obesity'].idxmax()\n",
    "df_obesity.loc[id_pais_maior_obesidade]['Country']"
   ]
  },
  {
   "cell_type": "code",
   "execution_count": null,
   "id": "dd45a769",
   "metadata": {},
   "outputs": [],
   "source": [
    "#Versão do Professor\n",
    "df_2015 = df_obesity[(df_obesity['Year'] == 2015)]\n",
    "df_2015[(df_2015['Obesity'] == df_2015['Obesity'].max())]"
   ]
  },
  {
   "cell_type": "code",
   "execution_count": null,
   "id": "898a274c",
   "metadata": {},
   "outputs": [],
   "source": [
    "#Versão do Professor\n",
    "df_2015[(df_2015['Obesity'] == df_2015['Obesity'].min())]"
   ]
  },
  {
   "cell_type": "code",
   "execution_count": null,
   "id": "30ae46d8",
   "metadata": {},
   "outputs": [],
   "source": [
    "id_pais_menor_obesidade = df_obesity[(df_obesity['Year'] == 2014) & (df_obesity['Sex'] == 'Both sexes')]['Obesity'].idxmin()\n",
    "df_obesity.loc[id_pais_menor_obesidade]['Country']"
   ]
  },
  {
   "cell_type": "code",
   "execution_count": null,
   "id": "16099ca5",
   "metadata": {},
   "outputs": [],
   "source": []
  },
  {
   "cell_type": "markdown",
   "id": "average-holiday",
   "metadata": {},
   "source": [
    "- Qual a diferença média percentual de obesidade entre sexos ao longo dos anos para o Brasil?"
   ]
  },
  {
   "cell_type": "code",
   "execution_count": null,
   "id": "47eadf0a",
   "metadata": {},
   "outputs": [],
   "source": [
    "df_brazil = df_obesity[df_obesity['Country'] == 'Brazil'].set_index('Year')"
   ]
  },
  {
   "cell_type": "code",
   "execution_count": null,
   "id": "4cd4786f",
   "metadata": {},
   "outputs": [],
   "source": [
    "df_brazil"
   ]
  },
  {
   "cell_type": "code",
   "execution_count": null,
   "id": "2b3d6b79",
   "metadata": {},
   "outputs": [],
   "source": [
    "(df_brazil[df_brazil['Sex'] == 'Female']['Obesity'] - df_brazil[df_brazil['Sex'] == 'Male']['Obesity']).plot()"
   ]
  },
  {
   "cell_type": "code",
   "execution_count": null,
   "id": "later-occurrence",
   "metadata": {},
   "outputs": [],
   "source": [
    "female_obesity_years = df_obesity[(df_obesity['Sex'] == 'Female') & (df_obesity['Country'] == 'Brazil')][['Obesity', 'Year']].set_index('Year')"
   ]
  },
  {
   "cell_type": "code",
   "execution_count": null,
   "id": "96ab79b3",
   "metadata": {},
   "outputs": [],
   "source": [
    "male_obesity_years = df_obesity[(df_obesity['Sex'] == 'Male') & (df_obesity['Country'] == 'Brazil')][['Obesity', 'Year']].set_index('Year')"
   ]
  },
  {
   "cell_type": "code",
   "execution_count": null,
   "id": "fca76f0c",
   "metadata": {},
   "outputs": [],
   "source": [
    "female_obesity_years.mean()"
   ]
  },
  {
   "cell_type": "code",
   "execution_count": null,
   "id": "a015b833",
   "metadata": {},
   "outputs": [],
   "source": [
    "male_obesity_years.mean()"
   ]
  },
  {
   "cell_type": "code",
   "execution_count": null,
   "id": "efd319ab",
   "metadata": {},
   "outputs": [],
   "source": [
    "(female_obesity_years - male_obesity_years).mean()"
   ]
  },
  {
   "cell_type": "markdown",
   "id": "rising-exhaust",
   "metadata": {},
   "source": [
    "- Você conseguiria plotar um gráfico mostrando a evolução da obesidade para ambos sexos no mundo?"
   ]
  },
  {
   "cell_type": "code",
   "execution_count": null,
   "id": "senior-recruitment",
   "metadata": {},
   "outputs": [],
   "source": [
    "df_obesity[(df_obesity['Sex'] == 'Female') & (df_obesity['Country'] == 'Brazil')][['Obesity', 'Year']].set_index('Year').plot()"
   ]
  },
  {
   "cell_type": "code",
   "execution_count": null,
   "id": "28322688",
   "metadata": {},
   "outputs": [],
   "source": [
    "df_obesity[(df_obesity['Sex'] == 'Male') & (df_obesity['Country'] == 'Brazil')][['Obesity','Year']].set_index('Year').plot()"
   ]
  },
  {
   "cell_type": "code",
   "execution_count": null,
   "id": "d05a8e8e",
   "metadata": {},
   "outputs": [],
   "source": [
    "df_ambos_sexos = df_obesity[df_obesity['Sex'] == 'Both sexes']"
   ]
  },
  {
   "cell_type": "code",
   "execution_count": null,
   "id": "008c7bca",
   "metadata": {},
   "outputs": [],
   "source": [
    "df_ambos_sexos.groupby('Year')['Obesity'].mean().plot()"
   ]
  },
  {
   "cell_type": "markdown",
   "id": "labeled-rainbow",
   "metadata": {},
   "source": [
    "## Perguntas - GDP Per Person (1901-2011)"
   ]
  },
  {
   "cell_type": "code",
   "execution_count": 29,
   "id": "a55bfb89",
   "metadata": {},
   "outputs": [],
   "source": [
    "import pandas as pd\n",
    "import numpy as np\n",
    "df_gdp = pd.read_csv(\"Datasets/GDP.csv\", decimal=\".\")\n",
    "\n",
    "#Limpe o conjunto de dados, convertendo strings em datas ou float, quando necessário.\n",
    "\n",
    "#Correção do Professor\n",
    "# df_gdp['Year'] = df_gdp['Year'].apply(lambda x : int(x.split('/')[-1]))\n",
    "#Correção do Professor\n",
    "# df_gdp['gdp'] = df_gdp[' GDP_pp '].apply(lambda x : float(x.strip().replace(',', '')))\n",
    "\n",
    "df_gdp['Year'] = df_gdp['Year'].apply(lambda x : pd.to_datetime(x).year)\n",
    "df_gdp['gdp'] = df_gdp[' GDP_pp '].str.strip().str.replace(',', '').astype(float)\n",
    "del df_gdp[' GDP_pp ']\n",
    "\n",
    "#del df_gdp[' GDP_pp ']\n",
    "primeiro_valor_pais = df_gdp.groupby('Country')['Year'].min()\n",
    "\n",
    "#Informe as regiões com maiores crescimentos de PIB per capita no século passado.\n",
    "\n",
    "#Tinha entendido que era cresicmento médio no seculo passado por região\n",
    "#df_gdp[(df_gdp['Year']  >= 1901) & (df_gdp['Year'] < 2000)][['Region','gdp']].groupby('Region').mean().sort_values('gdp', ascending=False)\n",
    "\n",
    "df_gdp_inicio = df_gdp[df_gdp['Year'] == 1901]\n",
    "df_gdp_fim = df_gdp[df_gdp['Year'] == 1996]\n",
    "\n",
    "regioes_maior_crescimento_seculo = (((df_gdp_fim.groupby('Region')['gdp'].mean() / df_gdp_inicio.groupby('Region')['gdp'].mean()) -1) *100).sort_values(ascending=False)"
   ]
  },
  {
   "cell_type": "markdown",
   "id": "textile-afternoon",
   "metadata": {},
   "source": [
    "- Preecha os anos ausentes em cada país com uma estimativa, baseada na diferença entre o próximo registro e o anterior."
   ]
  },
  {
   "cell_type": "code",
   "execution_count": 48,
   "id": "7e7a1051",
   "metadata": {},
   "outputs": [
    {
     "name": "stdout",
     "output_type": "stream",
     "text": [
      "Tempo de execução: 57.23182678222656 segundos\n"
     ]
    }
   ],
   "source": [
    "import pandas as pd\n",
    "import numpy as np\n",
    "df_gdp = pd.read_csv(\"Datasets/GDP.csv\", decimal=\".\")\n",
    "\n",
    "#Limpe o conjunto de dados, convertendo strings em datas ou float, quando necessário.\n",
    "\n",
    "#Correção do Professor\n",
    "# df_gdp['Year'] = df_gdp['Year'].apply(lambda x : int(x.split('/')[-1]))\n",
    "#Correção do Professor\n",
    "# df_gdp['gdp'] = df_gdp[' GDP_pp '].apply(lambda x : float(x.strip().replace(',', '')))\n",
    "\n",
    "df_gdp['Year'] = df_gdp['Year'].apply(lambda x : pd.to_datetime(x).year)\n",
    "df_gdp['gdp'] = df_gdp[' GDP_pp '].str.strip().str.replace(',', '').astype(float)\n",
    "del df_gdp[' GDP_pp ']\n",
    "\n",
    "#Versão do Código do Professor\n",
    "\n",
    "import time\n",
    "t1 = time.time()\n",
    "\n",
    "arr_year = np.arange(df_gdp[\"Year\"].min(), df_gdp[\"Year\"].max())\n",
    "df_all_years = pd.DataFrame(arr_year, columns=[\"Year\"])\n",
    "df_all_years.index = df_all_years['Year']\n",
    "df_years_off = ~df_all_years['Year'].isin(df_gdp['Year'])\n",
    "df_years_off = df_all_years.loc[df_years_off].index\n",
    "\n",
    "df_gdp = df_gdp.sort_values([\"Country\", \"Year\"])\n",
    "df_gdp[\"delta_gdp\"] = df_gdp[\"gdp\"] - df_gdp[\"gdp\"].shift(1)\n",
    "df_gdp[\"delta_year\"] = df_gdp[\"Year\"] - df_gdp[\"Year\"].shift(1)\n",
    "df_gdp[\"gdp_year\"] = (df_gdp[\"delta_gdp\"] / df_gdp[\"delta_year\"]).shift(-1)\n",
    "\n",
    "df_gdp[\"next_year\"] = df_gdp[\"Year\"].shift(-1)\n",
    "del df_gdp[\"delta_gdp\"], df_gdp[\"delta_year\"]\n",
    "\n",
    "df_new_data = pd.DataFrame()\n",
    "\n",
    "for idx, row in df_gdp.iterrows():\n",
    "    \n",
    "    if row[\"Year\"] == 2011:\n",
    "        continue\n",
    "    \n",
    "    year_to_add = df_years_off[(df_years_off < row[\"next_year\"]) & (df_years_off > row[\"Year\"])]\n",
    "    \n",
    "    for new_year in year_to_add:\n",
    "        add_row = row.copy()\n",
    "        add_row[\"gdp\"] = (new_year - add_row[\"Year\"]) * add_row[\"gdp_year\"] + add_row[\"gdp\"]\n",
    "        add_row[\"Year\"] = new_year\n",
    "        add_row[\"kind\"] = \"estimated\"\n",
    "        df_new_data = pd.concat([df_new_data, add_row.to_frame().transpose()])\n",
    "        \n",
    "df_gdp = pd.concat([df_gdp, df_new_data]).sort_values([\"Country\", \"Year\"])\n",
    "df_gdp.index = df_gdp['Year']\n",
    "\n",
    "tempo_execucao_professor = time.time() - t1\n",
    "print(\"Tempo de execução: {} segundos\".format(tempo_execucao_professor))"
   ]
  },
  {
   "cell_type": "code",
   "execution_count": 49,
   "id": "hydraulic-confidentiality",
   "metadata": {},
   "outputs": [
    {
     "name": "stdout",
     "output_type": "stream",
     "text": [
      "Tempo de execução: 18.340229988098145 segundos\n"
     ]
    }
   ],
   "source": [
    "import pandas as pd\n",
    "import numpy as np\n",
    "df_gdp = pd.read_csv(\"Datasets/GDP.csv\", decimal=\".\")\n",
    "\n",
    "#Limpe o conjunto de dados, convertendo strings em datas ou float, quando necessário.\n",
    "\n",
    "#Correção do Professor\n",
    "# df_gdp['Year'] = df_gdp['Year'].apply(lambda x : int(x.split('/')[-1]))\n",
    "#Correção do Professor\n",
    "# df_gdp['gdp'] = df_gdp[' GDP_pp '].apply(lambda x : float(x.strip().replace(',', '')))\n",
    "\n",
    "df_gdp['Year'] = df_gdp['Year'].apply(lambda x : pd.to_datetime(x).year)\n",
    "df_gdp['gdp'] = df_gdp[' GDP_pp '].str.strip().str.replace(',', '').astype(float)\n",
    "del df_gdp[' GDP_pp ']\n",
    "\n",
    "#Versão do meu código feito durante o exercício\n",
    "\n",
    "import time\n",
    "t1 = time.time()\n",
    "\n",
    "lista = []\n",
    "for j in range(len(df_gdp) - 1):\n",
    "\n",
    "    if (df_gdp.iloc[j + 1]['Year'] - df_gdp.iloc[j]['Year'])== 5: # faz o for de baixo dentro desse if\n",
    "    \n",
    "        for i in range(4):\n",
    "            registro = {}\n",
    "            registro['Country'] = df_gdp.iloc[j]['Country']\n",
    "            registro['Region'] = df_gdp.iloc[j]['Region']\n",
    "            registro['Year'] = df_gdp.iloc[j]['Year'] + (i  + 1)\n",
    "            registro['gdp'] = df_gdp.iloc[j]['gdp'] + (((df_gdp.iloc[j + 1]['gdp'] - df_gdp.iloc[j]['gdp']) / 5)* (i + 1))\n",
    "\n",
    "            #Demora 5x mais o tempo de execução se utilizar df.append linha a linha\n",
    "            #df_gdp = df_gdp.append(registro, ignore_index=True)\n",
    "\n",
    "        lista.append(registro)\n",
    "        \n",
    "df_gdp = df_gdp.append(lista)\n",
    "\n",
    "df_gdp = df_gdp.sort_values(['Country','Year'])\n",
    "\n",
    "tempo_execucao_meu_codigo = time.time() - t1\n",
    "print(\"Tempo de execução: {} segundos\".format(tempo_execucao_meu_codigo))"
   ]
  },
  {
   "cell_type": "code",
   "execution_count": 58,
   "id": "ce4cb087",
   "metadata": {},
   "outputs": [
    {
     "name": "stdout",
     "output_type": "stream",
     "text": [
      "Tempo de execução: 5.871535539627075 segundos\n"
     ]
    }
   ],
   "source": [
    "import pandas as pd\n",
    "import numpy as np\n",
    "df_gdp = pd.read_csv(\"Datasets/GDP.csv\", decimal=\".\")\n",
    "\n",
    "#Limpe o conjunto de dados, convertendo strings em datas ou float, quando necessário.\n",
    "\n",
    "#Correção do Professor\n",
    "# df_gdp['Year'] = df_gdp['Year'].apply(lambda x : int(x.split('/')[-1]))\n",
    "#Correção do Professor\n",
    "# df_gdp['gdp'] = df_gdp[' GDP_pp '].apply(lambda x : float(x.strip().replace(',', '')))\n",
    "\n",
    "df_gdp['Year'] = df_gdp['Year'].apply(lambda x : pd.to_datetime(x).year)\n",
    "df_gdp['gdp'] = df_gdp[' GDP_pp '].str.strip().str.replace(',', '').astype(float)\n",
    "del df_gdp[' GDP_pp ']\n",
    "\n",
    "#Versão do meu código adaptado com as idéias do código do professor.\n",
    "\n",
    "import time\n",
    "t1 = time.time()\n",
    "\n",
    "lista = []\n",
    "\n",
    "for idx, row in df_gdp.iterrows(): #Novo Adaptado da Correção do profesor.\n",
    "\n",
    "    if row['Year'] == 2011: #Novo Adaptado da Correção do profesor.\n",
    "        continue #Novo Adaptado da Correção do profesor.\n",
    "\n",
    "    for i in range((df_gdp.iloc[idx + 1]['Year'] - df_gdp.iloc[idx]['Year']) - 1): #Novo Adaptado da Correção do profesor.\n",
    "        registro = {}\n",
    "        registro['Country'] = row['Country'] #Novo Adaptado da Correção do profesor.\n",
    "        registro['Region'] = row['Region'] #Novo Adaptado da Correção do profesor.\n",
    "        registro['Year'] = row['Year'] + (i  + 1) #Novo Adaptado da Correção do profesor.\n",
    "        registro['gdp'] = row['gdp'] + (((df_gdp.iloc[idx + 1]['gdp'] - row['gdp']) / 5) * (i + 1)) #Novo Adaptado da Correção do profesor.\n",
    "\n",
    "        lista.append(registro)\n",
    "        \n",
    "df_gdp = df_gdp.append(lista)\n",
    "\n",
    "df_gdp = df_gdp.sort_values(['Country','Year'])\n",
    "\n",
    "tempo_execucao_meu_codigo_adaptado = time.time() - t1\n",
    "print(\"Tempo de execução: {} segundos\".format(tempo_execucao_meu_codigo_adaptado))"
   ]
  },
  {
   "cell_type": "code",
   "execution_count": 59,
   "id": "d7f2bbfd",
   "metadata": {},
   "outputs": [
    {
     "name": "stdout",
     "output_type": "stream",
     "text": [
      "Tempo de execução do programa do profesor foi de 57.23 segundos\n",
      "Tempo de execução do meu programa foi de 18.34 segundos\n",
      "Tempo de execução do meu programa adaptado do professor foi de 5.87 segundos\n",
      "\n",
      "Meu código é 3.1205621096009724 vezes mais rapido do que o do professor\n",
      "Meu código adaptado do professor é 9.74733549613524 vezes mais rapido do que o do professor\n"
     ]
    }
   ],
   "source": [
    "print(\"Tempo de execução do programa do profesor foi de {:.2f} segundos\".format(tempo_execucao_professor))\n",
    "print(\"Tempo de execução do meu programa foi de {:.2f} segundos\".format(tempo_execucao_meu_codigo))\n",
    "print(\"Tempo de execução do meu programa adaptado do professor foi de {:.2f} segundos\".format(tempo_execucao_meu_codigo_adaptado))\n",
    "print()\n",
    "print(\"Meu código é {} vezes mais rapido do que o do professor\".format(tempo_execucao_professor/tempo_execucao_meu_codigo))\n",
    "print(\"Meu código adaptado do professor é {} vezes mais rapido do que o do professor\".format(tempo_execucao_professor/tempo_execucao_meu_codigo_adaptado))"
   ]
  },
  {
   "cell_type": "code",
   "execution_count": 61,
   "id": "0ebe390b",
   "metadata": {},
   "outputs": [],
   "source": [
    "df_gdp.index = df_gdp['Year']"
   ]
  },
  {
   "cell_type": "code",
   "execution_count": 63,
   "id": "5837b215",
   "metadata": {},
   "outputs": [
    {
     "data": {
      "text/html": [
       "<div>\n",
       "<style scoped>\n",
       "    .dataframe tbody tr th:only-of-type {\n",
       "        vertical-align: middle;\n",
       "    }\n",
       "\n",
       "    .dataframe tbody tr th {\n",
       "        vertical-align: top;\n",
       "    }\n",
       "\n",
       "    .dataframe thead th {\n",
       "        text-align: right;\n",
       "    }\n",
       "</style>\n",
       "<table border=\"1\" class=\"dataframe\">\n",
       "  <thead>\n",
       "    <tr style=\"text-align: right;\">\n",
       "      <th></th>\n",
       "      <th>Country</th>\n",
       "      <th>Region</th>\n",
       "      <th>Year</th>\n",
       "      <th>gdp</th>\n",
       "    </tr>\n",
       "    <tr>\n",
       "      <th>Year</th>\n",
       "      <th></th>\n",
       "      <th></th>\n",
       "      <th></th>\n",
       "      <th></th>\n",
       "    </tr>\n",
       "  </thead>\n",
       "  <tbody>\n",
       "    <tr>\n",
       "      <th>1901</th>\n",
       "      <td>Afghanistan</td>\n",
       "      <td>Middle East, North Africa, and Greater Arabia</td>\n",
       "      <td>1901</td>\n",
       "      <td>613.990</td>\n",
       "    </tr>\n",
       "    <tr>\n",
       "      <th>1902</th>\n",
       "      <td>Afghanistan</td>\n",
       "      <td>Middle East, North Africa, and Greater Arabia</td>\n",
       "      <td>1902</td>\n",
       "      <td>616.000</td>\n",
       "    </tr>\n",
       "    <tr>\n",
       "      <th>1903</th>\n",
       "      <td>Afghanistan</td>\n",
       "      <td>Middle East, North Africa, and Greater Arabia</td>\n",
       "      <td>1903</td>\n",
       "      <td>618.010</td>\n",
       "    </tr>\n",
       "    <tr>\n",
       "      <th>1904</th>\n",
       "      <td>Afghanistan</td>\n",
       "      <td>Middle East, North Africa, and Greater Arabia</td>\n",
       "      <td>1904</td>\n",
       "      <td>620.020</td>\n",
       "    </tr>\n",
       "    <tr>\n",
       "      <th>1905</th>\n",
       "      <td>Afghanistan</td>\n",
       "      <td>Middle East, North Africa, and Greater Arabia</td>\n",
       "      <td>1905</td>\n",
       "      <td>622.030</td>\n",
       "    </tr>\n",
       "    <tr>\n",
       "      <th>...</th>\n",
       "      <td>...</td>\n",
       "      <td>...</td>\n",
       "      <td>...</td>\n",
       "      <td>...</td>\n",
       "    </tr>\n",
       "    <tr>\n",
       "      <th>2007</th>\n",
       "      <td>Zimbabwe</td>\n",
       "      <td>Sub-Saharan Africa</td>\n",
       "      <td>2007</td>\n",
       "      <td>521.402</td>\n",
       "    </tr>\n",
       "    <tr>\n",
       "      <th>2008</th>\n",
       "      <td>Zimbabwe</td>\n",
       "      <td>Sub-Saharan Africa</td>\n",
       "      <td>2008</td>\n",
       "      <td>522.634</td>\n",
       "    </tr>\n",
       "    <tr>\n",
       "      <th>2009</th>\n",
       "      <td>Zimbabwe</td>\n",
       "      <td>Sub-Saharan Africa</td>\n",
       "      <td>2009</td>\n",
       "      <td>523.866</td>\n",
       "    </tr>\n",
       "    <tr>\n",
       "      <th>2010</th>\n",
       "      <td>Zimbabwe</td>\n",
       "      <td>Sub-Saharan Africa</td>\n",
       "      <td>2010</td>\n",
       "      <td>525.098</td>\n",
       "    </tr>\n",
       "    <tr>\n",
       "      <th>2011</th>\n",
       "      <td>Zimbabwe</td>\n",
       "      <td>Sub-Saharan Africa</td>\n",
       "      <td>2011</td>\n",
       "      <td>526.330</td>\n",
       "    </tr>\n",
       "  </tbody>\n",
       "</table>\n",
       "<p>21323 rows × 4 columns</p>\n",
       "</div>"
      ],
      "text/plain": [
       "          Country                                         Region  Year  \\\n",
       "Year                                                                     \n",
       "1901  Afghanistan  Middle East, North Africa, and Greater Arabia  1901   \n",
       "1902  Afghanistan  Middle East, North Africa, and Greater Arabia  1902   \n",
       "1903  Afghanistan  Middle East, North Africa, and Greater Arabia  1903   \n",
       "1904  Afghanistan  Middle East, North Africa, and Greater Arabia  1904   \n",
       "1905  Afghanistan  Middle East, North Africa, and Greater Arabia  1905   \n",
       "...           ...                                            ...   ...   \n",
       "2007     Zimbabwe                             Sub-Saharan Africa  2007   \n",
       "2008     Zimbabwe                             Sub-Saharan Africa  2008   \n",
       "2009     Zimbabwe                             Sub-Saharan Africa  2009   \n",
       "2010     Zimbabwe                             Sub-Saharan Africa  2010   \n",
       "2011     Zimbabwe                             Sub-Saharan Africa  2011   \n",
       "\n",
       "          gdp  \n",
       "Year           \n",
       "1901  613.990  \n",
       "1902  616.000  \n",
       "1903  618.010  \n",
       "1904  620.020  \n",
       "1905  622.030  \n",
       "...       ...  \n",
       "2007  521.402  \n",
       "2008  522.634  \n",
       "2009  523.866  \n",
       "2010  525.098  \n",
       "2011  526.330  \n",
       "\n",
       "[21323 rows x 4 columns]"
      ]
     },
     "execution_count": 63,
     "metadata": {},
     "output_type": "execute_result"
    }
   ],
   "source": [
    "df_gdp"
   ]
  },
  {
   "cell_type": "code",
   "execution_count": 75,
   "id": "35f86111",
   "metadata": {},
   "outputs": [
    {
     "data": {
      "text/plain": [
       "Year\n",
       "1901     1481.057135\n",
       "1902     1498.532187\n",
       "1903     1516.007240\n",
       "1904     1533.482292\n",
       "1905     1550.957344\n",
       "            ...     \n",
       "2007    12542.010688\n",
       "2008    12646.463094\n",
       "2009    12750.915500\n",
       "2010    12855.367906\n",
       "2011    12959.820312\n",
       "Name: gdp, Length: 111, dtype: float64"
      ]
     },
     "execution_count": 75,
     "metadata": {},
     "output_type": "execute_result"
    }
   ],
   "source": [
    "df_gdp.groupby(df_gdp.index)['gdp'].mean()"
   ]
  },
  {
   "cell_type": "code",
   "execution_count": 73,
   "id": "932f14fe",
   "metadata": {},
   "outputs": [
    {
     "data": {
      "text/plain": [
       "<AxesSubplot:xlabel='Year'>"
      ]
     },
     "execution_count": 73,
     "metadata": {},
     "output_type": "execute_result"
    },
    {
     "data": {
      "image/png": "[encoded data removed]",
      "text/plain": [
       "<Figure size 432x288 with 1 Axes>"
      ]
     },
     "metadata": {
      "needs_background": "light"
     },
     "output_type": "display_data"
    }
   ],
   "source": [
    "df_gdp.groupby(df_gdp.index)['gdp'].mean().plot()"
   ]
  },
  {
   "cell_type": "markdown",
   "id": "revised-helicopter",
   "metadata": {},
   "source": [
    "### DESAFIOS\n",
    "- Você conseguiria criar um mapa do gdp ou da obesidade no mundo ao longo dos anos?"
   ]
  },
  {
   "cell_type": "code",
   "execution_count": null,
   "id": "advised-sample",
   "metadata": {},
   "outputs": [],
   "source": []
  },
  {
   "cell_type": "markdown",
   "id": "lesbian-flight",
   "metadata": {},
   "source": [
    "- Há uma relação entre níveis de obesidade e gdp per capita?"
   ]
  },
  {
   "cell_type": "code",
   "execution_count": null,
   "id": "fluid-enemy",
   "metadata": {},
   "outputs": [],
   "source": []
  }
 ],
 "metadata": {
  "kernelspec": {
   "display_name": "Python 3",
   "language": "python",
   "name": "python3"
  },
  "language_info": {
   "codemirror_mode": {
    "name": "ipython",
    "version": 3
   },
   "file_extension": ".py",
   "mimetype": "text/x-python",
   "name": "python",
   "nbconvert_exporter": "python",
   "pygments_lexer": "ipython3",
   "version": "3.8.8"
  }
 },
 "nbformat": 4,
 "nbformat_minor": 5
}
