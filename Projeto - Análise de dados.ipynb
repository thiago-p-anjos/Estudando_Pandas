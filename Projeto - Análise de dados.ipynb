{
 "cells": [
  {
   "cell_type": "markdown",
   "id": "motivated-olympus",
   "metadata": {},
   "source": [
    "# Projeto final\n",
    "\n",
    "Bem vindo ao projeto final do curso/módulo de Pandas.\n",
    "Neste projeto, você deve responder a um conjunto de perguntas feitas a dois conjuntos de dados:\n",
    "\n",
    "1. [Obesity among adults by country, 1975-2016](https://www.kaggle.com/amanarora/obesity-among-adults-by-country-19752016/)\n",
    "2. [GDP Per Person (1901-2011)](https://www.kaggle.com/divyansh22/gdp-per-person-19012011?select=GDP.csv)\n",
    "\n",
    "Tais conjuntos de dados são públicos foram publicados no Kaggle. Mais instruções sobre cada um deles podem ser encontrados nos links acima. Você também os encontrará na pasta `Datasets`, dentro de nossas apostilas."
   ]
  },
  {
   "cell_type": "code",
   "execution_count": 383,
   "id": "million-survival",
   "metadata": {},
   "outputs": [],
   "source": [
    "import pandas as pd\n",
    "import numpy as np"
   ]
  },
  {
   "cell_type": "markdown",
   "id": "becoming-princeton",
   "metadata": {},
   "source": [
    "## Perguntas - Obesity among adults by country, 1975-2016"
   ]
  },
  {
   "cell_type": "code",
   "execution_count": 384,
   "id": "formal-heater",
   "metadata": {},
   "outputs": [],
   "source": [
    "df_obesity = pd.read_csv(\"Datasets/obesity_cleaned.csv\")"
   ]
  },
  {
   "cell_type": "markdown",
   "id": "divine-rebel",
   "metadata": {},
   "source": [
    "- Limpe os dados do DataFrame, criando uma coluna de nome 'Obesity' que conterá os valores de obesidade. Transforme em float as colunas que porventura foram importadas como string."
   ]
  },
  {
   "cell_type": "code",
   "execution_count": 385,
   "id": "cubic-minneapolis",
   "metadata": {},
   "outputs": [
    {
     "name": "stdout",
     "output_type": "stream",
     "text": [
      "<class 'pandas.core.frame.DataFrame'>\n",
      "RangeIndex: 24570 entries, 0 to 24569\n",
      "Data columns (total 5 columns):\n",
      " #   Column       Non-Null Count  Dtype \n",
      "---  ------       --------------  ----- \n",
      " 0   Unnamed: 0   24570 non-null  int64 \n",
      " 1   Country      24570 non-null  object\n",
      " 2   Year         24570 non-null  int64 \n",
      " 3   Obesity (%)  24570 non-null  object\n",
      " 4   Sex          24570 non-null  object\n",
      "dtypes: int64(2), object(3)\n",
      "memory usage: 959.9+ KB\n"
     ]
    }
   ],
   "source": [
    "df_obesity.info()"
   ]
  },
  {
   "cell_type": "code",
   "execution_count": 386,
   "id": "a1398768",
   "metadata": {},
   "outputs": [
    {
     "data": {
      "text/html": [
       "<div>\n",
       "<style scoped>\n",
       "    .dataframe tbody tr th:only-of-type {\n",
       "        vertical-align: middle;\n",
       "    }\n",
       "\n",
       "    .dataframe tbody tr th {\n",
       "        vertical-align: top;\n",
       "    }\n",
       "\n",
       "    .dataframe thead th {\n",
       "        text-align: right;\n",
       "    }\n",
       "</style>\n",
       "<table border=\"1\" class=\"dataframe\">\n",
       "  <thead>\n",
       "    <tr style=\"text-align: right;\">\n",
       "      <th></th>\n",
       "      <th>Unnamed: 0</th>\n",
       "      <th>Country</th>\n",
       "      <th>Year</th>\n",
       "      <th>Obesity (%)</th>\n",
       "      <th>Sex</th>\n",
       "    </tr>\n",
       "  </thead>\n",
       "  <tbody>\n",
       "    <tr>\n",
       "      <th>0</th>\n",
       "      <td>0</td>\n",
       "      <td>Afghanistan</td>\n",
       "      <td>1975</td>\n",
       "      <td>0.5 [0.2-1.1]</td>\n",
       "      <td>Both sexes</td>\n",
       "    </tr>\n",
       "    <tr>\n",
       "      <th>1</th>\n",
       "      <td>1</td>\n",
       "      <td>Afghanistan</td>\n",
       "      <td>1975</td>\n",
       "      <td>0.2 [0.0-0.6]</td>\n",
       "      <td>Male</td>\n",
       "    </tr>\n",
       "    <tr>\n",
       "      <th>2</th>\n",
       "      <td>2</td>\n",
       "      <td>Afghanistan</td>\n",
       "      <td>1975</td>\n",
       "      <td>0.8 [0.2-2.0]</td>\n",
       "      <td>Female</td>\n",
       "    </tr>\n",
       "    <tr>\n",
       "      <th>3</th>\n",
       "      <td>3</td>\n",
       "      <td>Afghanistan</td>\n",
       "      <td>1976</td>\n",
       "      <td>0.5 [0.2-1.1]</td>\n",
       "      <td>Both sexes</td>\n",
       "    </tr>\n",
       "    <tr>\n",
       "      <th>4</th>\n",
       "      <td>4</td>\n",
       "      <td>Afghanistan</td>\n",
       "      <td>1976</td>\n",
       "      <td>0.2 [0.0-0.7]</td>\n",
       "      <td>Male</td>\n",
       "    </tr>\n",
       "    <tr>\n",
       "      <th>...</th>\n",
       "      <td>...</td>\n",
       "      <td>...</td>\n",
       "      <td>...</td>\n",
       "      <td>...</td>\n",
       "      <td>...</td>\n",
       "    </tr>\n",
       "    <tr>\n",
       "      <th>24565</th>\n",
       "      <td>24565</td>\n",
       "      <td>Zimbabwe</td>\n",
       "      <td>2015</td>\n",
       "      <td>4.5 [2.4-7.6]</td>\n",
       "      <td>Male</td>\n",
       "    </tr>\n",
       "    <tr>\n",
       "      <th>24566</th>\n",
       "      <td>24566</td>\n",
       "      <td>Zimbabwe</td>\n",
       "      <td>2015</td>\n",
       "      <td>24.8 [18.9-31.3]</td>\n",
       "      <td>Female</td>\n",
       "    </tr>\n",
       "    <tr>\n",
       "      <th>24567</th>\n",
       "      <td>24567</td>\n",
       "      <td>Zimbabwe</td>\n",
       "      <td>2016</td>\n",
       "      <td>15.5 [12.0-19.2]</td>\n",
       "      <td>Both sexes</td>\n",
       "    </tr>\n",
       "    <tr>\n",
       "      <th>24568</th>\n",
       "      <td>24568</td>\n",
       "      <td>Zimbabwe</td>\n",
       "      <td>2016</td>\n",
       "      <td>4.7 [2.5-8.0]</td>\n",
       "      <td>Male</td>\n",
       "    </tr>\n",
       "    <tr>\n",
       "      <th>24569</th>\n",
       "      <td>24569</td>\n",
       "      <td>Zimbabwe</td>\n",
       "      <td>2016</td>\n",
       "      <td>25.3 [19.1-32.0]</td>\n",
       "      <td>Female</td>\n",
       "    </tr>\n",
       "  </tbody>\n",
       "</table>\n",
       "<p>24570 rows × 5 columns</p>\n",
       "</div>"
      ],
      "text/plain": [
       "       Unnamed: 0      Country  Year       Obesity (%)         Sex\n",
       "0               0  Afghanistan  1975     0.5 [0.2-1.1]  Both sexes\n",
       "1               1  Afghanistan  1975     0.2 [0.0-0.6]        Male\n",
       "2               2  Afghanistan  1975     0.8 [0.2-2.0]      Female\n",
       "3               3  Afghanistan  1976     0.5 [0.2-1.1]  Both sexes\n",
       "4               4  Afghanistan  1976     0.2 [0.0-0.7]        Male\n",
       "...           ...          ...   ...               ...         ...\n",
       "24565       24565     Zimbabwe  2015     4.5 [2.4-7.6]        Male\n",
       "24566       24566     Zimbabwe  2015  24.8 [18.9-31.3]      Female\n",
       "24567       24567     Zimbabwe  2016  15.5 [12.0-19.2]  Both sexes\n",
       "24568       24568     Zimbabwe  2016     4.7 [2.5-8.0]        Male\n",
       "24569       24569     Zimbabwe  2016  25.3 [19.1-32.0]      Female\n",
       "\n",
       "[24570 rows x 5 columns]"
      ]
     },
     "execution_count": 386,
     "metadata": {},
     "output_type": "execute_result"
    }
   ],
   "source": [
    "df_obesity"
   ]
  },
  {
   "cell_type": "code",
   "execution_count": 387,
   "id": "8a544a85",
   "metadata": {},
   "outputs": [],
   "source": [
    "#df_obesity = df_obesity.set_index('Unnamed: 0')\n",
    "del df_obesity['Unnamed: 0'] #Corrido pela aula"
   ]
  },
  {
   "cell_type": "code",
   "execution_count": 388,
   "id": "c4c7cea9",
   "metadata": {},
   "outputs": [
    {
     "data": {
      "text/plain": [
       "No data             504\n",
       "0.4 [0.1-1.0]        55\n",
       "0.6 [0.2-1.3]        47\n",
       "0.3 [0.1-0.7]        46\n",
       "0.3 [0.1-0.8]        46\n",
       "                   ... \n",
       "2.9 [1.4-5.6]         1\n",
       "27.9 [22.7-33.3]      1\n",
       "6.5 [3.3-10.9]        1\n",
       "24.0 [21.0-27.0]      1\n",
       "9.5 [5.6-14.3]        1\n",
       "Name: Obesity (%), Length: 16375, dtype: int64"
      ]
     },
     "execution_count": 388,
     "metadata": {},
     "output_type": "execute_result"
    }
   ],
   "source": [
    "df_obesity['Obesity (%)'].value_counts()"
   ]
  },
  {
   "cell_type": "code",
   "execution_count": 389,
   "id": "673a8a55",
   "metadata": {},
   "outputs": [
    {
     "data": {
      "text/plain": [
       "0         0.5\n",
       "1         0.2\n",
       "2         0.8\n",
       "3         0.5\n",
       "4         0.2\n",
       "         ... \n",
       "24565     4.5\n",
       "24566    24.8\n",
       "24567    15.5\n",
       "24568     4.7\n",
       "24569    25.3\n",
       "Name: 0, Length: 24570, dtype: object"
      ]
     },
     "execution_count": 389,
     "metadata": {},
     "output_type": "execute_result"
    }
   ],
   "source": [
    "# df_obesity['Obesity (%)'].apply(lambda x: x.split()[0]) Correção do Professor\n",
    "df_obesity['Obesity (%)'].str.split(' ', n=1, expand=True)[0]"
   ]
  },
  {
   "cell_type": "code",
   "execution_count": 390,
   "id": "70e5cf88",
   "metadata": {},
   "outputs": [],
   "source": [
    "# df_obesity['Obesity'] = df_obesity['Obesity (%)'].apply(lambda x: x.split()[0]) Correção do Professor\n",
    "df_obesity['Obesity'] = df_obesity['Obesity (%)'].str.split(' ', n=1, expand=True)[0]"
   ]
  },
  {
   "cell_type": "code",
   "execution_count": 391,
   "id": "0c1049d2",
   "metadata": {},
   "outputs": [
    {
     "data": {
      "text/plain": [
       "0         0.5\n",
       "1         0.2\n",
       "2         0.8\n",
       "3         0.5\n",
       "4         0.2\n",
       "         ... \n",
       "24565     4.5\n",
       "24566    24.8\n",
       "24567    15.5\n",
       "24568     4.7\n",
       "24569    25.3\n",
       "Name: Obesity, Length: 24570, dtype: object"
      ]
     },
     "execution_count": 391,
     "metadata": {},
     "output_type": "execute_result"
    }
   ],
   "source": [
    "df_obesity['Obesity']"
   ]
  },
  {
   "cell_type": "code",
   "execution_count": 392,
   "id": "7773f539",
   "metadata": {},
   "outputs": [
    {
     "data": {
      "text/plain": [
       "No      504\n",
       "0.4     222\n",
       "0.6     218\n",
       "0.5     217\n",
       "0.7     210\n",
       "       ... \n",
       "63.1      1\n",
       "54.1      1\n",
       "57.4      1\n",
       "60.0      1\n",
       "55.2      1\n",
       "Name: Obesity, Length: 602, dtype: int64"
      ]
     },
     "execution_count": 392,
     "metadata": {},
     "output_type": "execute_result"
    }
   ],
   "source": [
    "#Dados \"No\" separado quando eu fiz o split no \"No data\"\n",
    "#df_obesity.iloc[20800]\n",
    "\n",
    "#Utilizando value_counts() para verificar os \"No\"\n",
    "df_obesity['Obesity'].value_counts()"
   ]
  },
  {
   "cell_type": "code",
   "execution_count": 393,
   "id": "dfd41b54",
   "metadata": {},
   "outputs": [],
   "source": [
    "#Usando o método replace() para substituir o \"No\" por valores nulo\n",
    "df_obesity['Obesity'] = df_obesity['Obesity'].replace(to_replace='No', value=np.NaN)\n",
    "\n",
    "# df_obesity.loc[df_obesity['Obesity'] == 'No', 'Obesity'] = np.nan Versão do Professor, funciona igual ao de cima"
   ]
  },
  {
   "cell_type": "code",
   "execution_count": 394,
   "id": "50a24e26",
   "metadata": {},
   "outputs": [
    {
     "data": {
      "text/plain": [
       "0.4     222\n",
       "0.6     218\n",
       "0.5     217\n",
       "0.7     210\n",
       "0.8     201\n",
       "       ... \n",
       "56.6      1\n",
       "48.0      1\n",
       "54.2      1\n",
       "48.9      1\n",
       "60.1      1\n",
       "Name: Obesity, Length: 601, dtype: int64"
      ]
     },
     "execution_count": 394,
     "metadata": {},
     "output_type": "execute_result"
    }
   ],
   "source": [
    "df_obesity['Obesity'].value_counts()"
   ]
  },
  {
   "cell_type": "code",
   "execution_count": 397,
   "id": "3d419499",
   "metadata": {},
   "outputs": [
    {
     "data": {
      "text/plain": [
       "504"
      ]
     },
     "execution_count": 397,
     "metadata": {},
     "output_type": "execute_result"
    }
   ],
   "source": [
    "df_obesity['Obesity'].isnull().sum()"
   ]
  },
  {
   "cell_type": "code",
   "execution_count": 401,
   "id": "1f1edf1b",
   "metadata": {},
   "outputs": [],
   "source": [
    "#Apagando as linhas cujo os valores são nulos\n",
    "df_obesity = df_obesity.dropna()"
   ]
  },
  {
   "cell_type": "code",
   "execution_count": 402,
   "id": "55e02a80",
   "metadata": {},
   "outputs": [
    {
     "data": {
      "text/plain": [
       "0"
      ]
     },
     "execution_count": 402,
     "metadata": {},
     "output_type": "execute_result"
    }
   ],
   "source": [
    "df_obesity['Obesity'].isnull().sum()"
   ]
  },
  {
   "cell_type": "code",
   "execution_count": 405,
   "id": "b8b3065f",
   "metadata": {},
   "outputs": [],
   "source": [
    "#usando a função de dataframe df.astype para definir a coluno como float\n",
    "df_obesity['Obesity'] = df_obesity['Obesity'].astype(float)\n",
    "\n",
    "# df_obesity['Obesity'] = df_obesity['Obesity'].apply(lambda x : float(x))"
   ]
  },
  {
   "cell_type": "code",
   "execution_count": 406,
   "id": "9a5423ea",
   "metadata": {},
   "outputs": [
    {
     "name": "stdout",
     "output_type": "stream",
     "text": [
      "<class 'pandas.core.frame.DataFrame'>\n",
      "Int64Index: 24066 entries, 0 to 24569\n",
      "Data columns (total 5 columns):\n",
      " #   Column       Non-Null Count  Dtype  \n",
      "---  ------       --------------  -----  \n",
      " 0   Country      24066 non-null  object \n",
      " 1   Year         24066 non-null  int64  \n",
      " 2   Obesity (%)  24066 non-null  object \n",
      " 3   Sex          24066 non-null  object \n",
      " 4   Obesity      24066 non-null  float64\n",
      "dtypes: float64(1), int64(1), object(3)\n",
      "memory usage: 1.1+ MB\n"
     ]
    }
   ],
   "source": [
    "df_obesity.info()"
   ]
  },
  {
   "cell_type": "code",
   "execution_count": null,
   "id": "eefd1c70",
   "metadata": {},
   "outputs": [],
   "source": []
  },
  {
   "cell_type": "markdown",
   "id": "voluntary-temperature",
   "metadata": {},
   "source": [
    "- Qual o percentual médio de obesidade por sexo no mundo no ano de 2015?"
   ]
  },
  {
   "cell_type": "code",
   "execution_count": 407,
   "id": "dc2c4476",
   "metadata": {},
   "outputs": [
    {
     "data": {
      "text/html": [
       "<div>\n",
       "<style scoped>\n",
       "    .dataframe tbody tr th:only-of-type {\n",
       "        vertical-align: middle;\n",
       "    }\n",
       "\n",
       "    .dataframe tbody tr th {\n",
       "        vertical-align: top;\n",
       "    }\n",
       "\n",
       "    .dataframe thead th {\n",
       "        text-align: right;\n",
       "    }\n",
       "</style>\n",
       "<table border=\"1\" class=\"dataframe\">\n",
       "  <thead>\n",
       "    <tr style=\"text-align: right;\">\n",
       "      <th></th>\n",
       "      <th>Year</th>\n",
       "      <th>Obesity</th>\n",
       "    </tr>\n",
       "    <tr>\n",
       "      <th>Sex</th>\n",
       "      <th></th>\n",
       "      <th></th>\n",
       "    </tr>\n",
       "  </thead>\n",
       "  <tbody>\n",
       "    <tr>\n",
       "      <th>Both sexes</th>\n",
       "      <td>2015</td>\n",
       "      <td>19.508377</td>\n",
       "    </tr>\n",
       "    <tr>\n",
       "      <th>Female</th>\n",
       "      <td>2015</td>\n",
       "      <td>22.899476</td>\n",
       "    </tr>\n",
       "    <tr>\n",
       "      <th>Male</th>\n",
       "      <td>2015</td>\n",
       "      <td>15.980628</td>\n",
       "    </tr>\n",
       "  </tbody>\n",
       "</table>\n",
       "</div>"
      ],
      "text/plain": [
       "            Year    Obesity\n",
       "Sex                        \n",
       "Both sexes  2015  19.508377\n",
       "Female      2015  22.899476\n",
       "Male        2015  15.980628"
      ]
     },
     "execution_count": 407,
     "metadata": {},
     "output_type": "execute_result"
    }
   ],
   "source": [
    "#Correção pelo Professor\n",
    "df_obesity[df_obesity['Year'] == 2015].groupby('Sex').mean()"
   ]
  },
  {
   "cell_type": "code",
   "execution_count": 274,
   "id": "afraid-reminder",
   "metadata": {},
   "outputs": [],
   "source": [
    "perc_med_male_2015 = df_obesity[(df_obesity['Year']==2015) & (df_obesity['Sex'] == \"Male\")]['Obesity'].mean()"
   ]
  },
  {
   "cell_type": "code",
   "execution_count": 408,
   "id": "0fc3084e",
   "metadata": {},
   "outputs": [],
   "source": [
    "perc_med_female_2015 = df_obesity[(df_obesity['Year']==2015) & (df_obesity['Sex'] == \"Female\")]['Obesity'].mean()"
   ]
  },
  {
   "cell_type": "code",
   "execution_count": 412,
   "id": "ddea44eb",
   "metadata": {},
   "outputs": [],
   "source": [
    "perc_med_bothsexes_2015 = df_obesity[(df_obesity['Year']==2015) & (df_obesity['Sex'] == \"Both sexes\")]['Obesity'].mean()"
   ]
  },
  {
   "cell_type": "code",
   "execution_count": 413,
   "id": "63e20859",
   "metadata": {},
   "outputs": [
    {
     "data": {
      "text/plain": [
       "15.980628272251304"
      ]
     },
     "execution_count": 413,
     "metadata": {},
     "output_type": "execute_result"
    }
   ],
   "source": [
    "perc_med_male_2015"
   ]
  },
  {
   "cell_type": "code",
   "execution_count": 414,
   "id": "471ecc36",
   "metadata": {},
   "outputs": [
    {
     "data": {
      "text/plain": [
       "22.899476439790575"
      ]
     },
     "execution_count": 414,
     "metadata": {},
     "output_type": "execute_result"
    }
   ],
   "source": [
    "perc_med_female_2015"
   ]
  },
  {
   "cell_type": "code",
   "execution_count": 415,
   "id": "f43d9551",
   "metadata": {},
   "outputs": [
    {
     "data": {
      "text/plain": [
       "19.508376963350777"
      ]
     },
     "execution_count": 415,
     "metadata": {},
     "output_type": "execute_result"
    }
   ],
   "source": [
    "perc_med_bothsexes_2015"
   ]
  },
  {
   "cell_type": "code",
   "execution_count": 253,
   "id": "09802647",
   "metadata": {},
   "outputs": [
    {
     "data": {
      "text/plain": [
       "array(['Both sexes', 'Male', 'Female'], dtype=object)"
      ]
     },
     "execution_count": 253,
     "metadata": {},
     "output_type": "execute_result"
    }
   ],
   "source": [
    "df_obesity['Sex'].unique()"
   ]
  },
  {
   "cell_type": "code",
   "execution_count": 258,
   "id": "0f749ec7",
   "metadata": {},
   "outputs": [
    {
     "data": {
      "text/plain": [
       "191"
      ]
     },
     "execution_count": 258,
     "metadata": {},
     "output_type": "execute_result"
    }
   ],
   "source": [
    "df_obesity['Country'].nunique()"
   ]
  },
  {
   "cell_type": "markdown",
   "id": "expected-kruger",
   "metadata": {},
   "source": [
    "- Quais são os 5 países com a maior e a menor taxa de aumento nos índices de obesidade no período observado?"
   ]
  },
  {
   "cell_type": "code",
   "execution_count": 449,
   "id": "8df83c23",
   "metadata": {},
   "outputs": [],
   "source": [
    "df_obesity_inicio = df_obesity[(df_obesity['Year'] == df_obesity['Year'].min()) & (df_obesity['Sex'] == 'Both sexes')][['Obesity', 'Country']].set_index('Country')"
   ]
  },
  {
   "cell_type": "code",
   "execution_count": 450,
   "id": "cb572c0f",
   "metadata": {},
   "outputs": [],
   "source": [
    "df_obesity_final = df_obesity[(df_obesity['Year'] == df_obesity['Year'].max()) & (df_obesity['Sex'] == 'Both sexes')][['Obesity', 'Country']].set_index('Country')"
   ]
  },
  {
   "cell_type": "code",
   "execution_count": 456,
   "id": "e630797b",
   "metadata": {},
   "outputs": [],
   "source": [
    "df_obesity_evolucao = df_obesity_final - df_obesity_inicio"
   ]
  },
  {
   "cell_type": "code",
   "execution_count": 465,
   "id": "6f135f26",
   "metadata": {},
   "outputs": [
    {
     "data": {
      "text/plain": [
       "Country\n",
       "Viet Nam       2.0\n",
       "Singapore      3.1\n",
       "Japan          3.3\n",
       "Bangladesh     3.4\n",
       "Timor-Leste    3.6\n",
       "Name: Obesity, dtype: float64"
      ]
     },
     "execution_count": 465,
     "metadata": {},
     "output_type": "execute_result"
    }
   ],
   "source": [
    "df_obesity_evolucao['Obesity'].sort_values().head(5)"
   ]
  },
  {
   "cell_type": "code",
   "execution_count": 466,
   "id": "1a376c5d",
   "metadata": {},
   "outputs": [
    {
     "data": {
      "text/plain": [
       "Country\n",
       "Cook Islands    27.9\n",
       "Tonga           28.3\n",
       "Kiribati        30.1\n",
       "Niue            31.1\n",
       "Tuvalu          33.7\n",
       "Name: Obesity, dtype: float64"
      ]
     },
     "execution_count": 466,
     "metadata": {},
     "output_type": "execute_result"
    }
   ],
   "source": [
    "df_obesity_evolucao['Obesity'].sort_values().tail(5)"
   ]
  },
  {
   "cell_type": "code",
   "execution_count": 467,
   "id": "phantom-going",
   "metadata": {},
   "outputs": [],
   "source": [
    "#df_obesity[df_obesity['Year'] == 2015]['Obesity'].max()"
   ]
  },
  {
   "cell_type": "code",
   "execution_count": 468,
   "id": "fe946972",
   "metadata": {},
   "outputs": [],
   "source": [
    "#df_obesity[df_obesity['Year'] == 2015]['Obesity'].min()"
   ]
  },
  {
   "cell_type": "markdown",
   "id": "efficient-buyer",
   "metadata": {},
   "source": [
    "- Quais os países com maiores e menores níveis percetuais de obesidade em 2015?"
   ]
  },
  {
   "cell_type": "code",
   "execution_count": 469,
   "id": "violent-warren",
   "metadata": {},
   "outputs": [
    {
     "data": {
      "text/plain": [
       "'Nauru'"
      ]
     },
     "execution_count": 469,
     "metadata": {},
     "output_type": "execute_result"
    }
   ],
   "source": [
    "id_pais_maior_obesidade = df_obesity[(df_obesity['Year'] == 2014) & (df_obesity['Sex'] == 'Both sexes')]['Obesity'].idxmax()\n",
    "df_obesity.loc[id_pais_maior_obesidade]['Country']"
   ]
  },
  {
   "cell_type": "code",
   "execution_count": 481,
   "id": "87b89929",
   "metadata": {},
   "outputs": [
    {
     "data": {
      "text/html": [
       "<div>\n",
       "<style scoped>\n",
       "    .dataframe tbody tr th:only-of-type {\n",
       "        vertical-align: middle;\n",
       "    }\n",
       "\n",
       "    .dataframe tbody tr th {\n",
       "        vertical-align: top;\n",
       "    }\n",
       "\n",
       "    .dataframe thead th {\n",
       "        text-align: right;\n",
       "    }\n",
       "</style>\n",
       "<table border=\"1\" class=\"dataframe\">\n",
       "  <thead>\n",
       "    <tr style=\"text-align: right;\">\n",
       "      <th></th>\n",
       "      <th>Country</th>\n",
       "      <th>Year</th>\n",
       "      <th>Obesity (%)</th>\n",
       "      <th>Sex</th>\n",
       "      <th>Obesity</th>\n",
       "    </tr>\n",
       "  </thead>\n",
       "  <tbody>\n",
       "    <tr>\n",
       "      <th>15116</th>\n",
       "      <td>Nauru</td>\n",
       "      <td>2015</td>\n",
       "      <td>63.1 [55.5-70.3]</td>\n",
       "      <td>Female</td>\n",
       "      <td>63.1</td>\n",
       "    </tr>\n",
       "  </tbody>\n",
       "</table>\n",
       "</div>"
      ],
      "text/plain": [
       "      Country  Year       Obesity (%)     Sex  Obesity\n",
       "15116   Nauru  2015  63.1 [55.5-70.3]  Female     63.1"
      ]
     },
     "execution_count": 481,
     "metadata": {},
     "output_type": "execute_result"
    }
   ],
   "source": [
    "#Versão do Professor\n",
    "df_2015 = df_obesity[(df_obesity['Year'] == 2015)]\n",
    "df_2015[(df_2015['Obesity'] == df_2015['Obesity'].max())]"
   ]
  },
  {
   "cell_type": "code",
   "execution_count": 482,
   "id": "93a592d7",
   "metadata": {},
   "outputs": [
    {
     "data": {
      "text/html": [
       "<div>\n",
       "<style scoped>\n",
       "    .dataframe tbody tr th:only-of-type {\n",
       "        vertical-align: middle;\n",
       "    }\n",
       "\n",
       "    .dataframe tbody tr th {\n",
       "        vertical-align: top;\n",
       "    }\n",
       "\n",
       "    .dataframe thead th {\n",
       "        text-align: right;\n",
       "    }\n",
       "</style>\n",
       "<table border=\"1\" class=\"dataframe\">\n",
       "  <thead>\n",
       "    <tr style=\"text-align: right;\">\n",
       "      <th></th>\n",
       "      <th>Country</th>\n",
       "      <th>Year</th>\n",
       "      <th>Obesity (%)</th>\n",
       "      <th>Sex</th>\n",
       "      <th>Obesity</th>\n",
       "    </tr>\n",
       "  </thead>\n",
       "  <tbody>\n",
       "    <tr>\n",
       "      <th>24187</th>\n",
       "      <td>Viet Nam</td>\n",
       "      <td>2015</td>\n",
       "      <td>1.5 [0.8-2.5]</td>\n",
       "      <td>Male</td>\n",
       "      <td>1.5</td>\n",
       "    </tr>\n",
       "  </tbody>\n",
       "</table>\n",
       "</div>"
      ],
      "text/plain": [
       "        Country  Year    Obesity (%)   Sex  Obesity\n",
       "24187  Viet Nam  2015  1.5 [0.8-2.5]  Male      1.5"
      ]
     },
     "execution_count": 482,
     "metadata": {},
     "output_type": "execute_result"
    }
   ],
   "source": [
    "#Versão do Professor\n",
    "df_2015[(df_2015['Obesity'] == df_2015['Obesity'].min())]"
   ]
  },
  {
   "cell_type": "code",
   "execution_count": 297,
   "id": "237775ef",
   "metadata": {},
   "outputs": [
    {
     "data": {
      "text/plain": [
       "'Viet Nam'"
      ]
     },
     "execution_count": 297,
     "metadata": {},
     "output_type": "execute_result"
    }
   ],
   "source": [
    "id_pais_menor_obesidade = df_obesity[(df_obesity['Year'] == 2014) & (df_obesity['Sex'] == 'Both sexes')]['Obesity'].idxmin()\n",
    "df_obesity.loc[id_pais_menor_obesidade]['Country']"
   ]
  },
  {
   "cell_type": "code",
   "execution_count": null,
   "id": "e1ebea34",
   "metadata": {},
   "outputs": [],
   "source": []
  },
  {
   "cell_type": "markdown",
   "id": "average-holiday",
   "metadata": {},
   "source": [
    "- Qual a diferença média percentual de obesidade entre sexos ao longo dos anos para o Brasil?"
   ]
  },
  {
   "cell_type": "code",
   "execution_count": 488,
   "id": "c6155ceb",
   "metadata": {},
   "outputs": [],
   "source": [
    "df_brazil = df_obesity[df_obesity['Country'] == 'Brazil'].set_index('Year')"
   ]
  },
  {
   "cell_type": "code",
   "execution_count": 490,
   "id": "85edfd79",
   "metadata": {},
   "outputs": [
    {
     "data": {
      "text/html": [
       "<div>\n",
       "<style scoped>\n",
       "    .dataframe tbody tr th:only-of-type {\n",
       "        vertical-align: middle;\n",
       "    }\n",
       "\n",
       "    .dataframe tbody tr th {\n",
       "        vertical-align: top;\n",
       "    }\n",
       "\n",
       "    .dataframe thead th {\n",
       "        text-align: right;\n",
       "    }\n",
       "</style>\n",
       "<table border=\"1\" class=\"dataframe\">\n",
       "  <thead>\n",
       "    <tr style=\"text-align: right;\">\n",
       "      <th></th>\n",
       "      <th>Country</th>\n",
       "      <th>Obesity (%)</th>\n",
       "      <th>Sex</th>\n",
       "      <th>Obesity</th>\n",
       "    </tr>\n",
       "    <tr>\n",
       "      <th>Year</th>\n",
       "      <th></th>\n",
       "      <th></th>\n",
       "      <th></th>\n",
       "      <th></th>\n",
       "    </tr>\n",
       "  </thead>\n",
       "  <tbody>\n",
       "    <tr>\n",
       "      <th>1975</th>\n",
       "      <td>Brazil</td>\n",
       "      <td>5.2 [3.3-7.9]</td>\n",
       "      <td>Both sexes</td>\n",
       "      <td>5.2</td>\n",
       "    </tr>\n",
       "    <tr>\n",
       "      <th>1975</th>\n",
       "      <td>Brazil</td>\n",
       "      <td>3.0 [1.4-5.7]</td>\n",
       "      <td>Male</td>\n",
       "      <td>3.0</td>\n",
       "    </tr>\n",
       "    <tr>\n",
       "      <th>1975</th>\n",
       "      <td>Brazil</td>\n",
       "      <td>7.3 [4.0-12.0]</td>\n",
       "      <td>Female</td>\n",
       "      <td>7.3</td>\n",
       "    </tr>\n",
       "    <tr>\n",
       "      <th>1976</th>\n",
       "      <td>Brazil</td>\n",
       "      <td>5.5 [3.5-8.1]</td>\n",
       "      <td>Both sexes</td>\n",
       "      <td>5.5</td>\n",
       "    </tr>\n",
       "    <tr>\n",
       "      <th>1976</th>\n",
       "      <td>Brazil</td>\n",
       "      <td>3.2 [1.5-5.8]</td>\n",
       "      <td>Male</td>\n",
       "      <td>3.2</td>\n",
       "    </tr>\n",
       "    <tr>\n",
       "      <th>...</th>\n",
       "      <td>...</td>\n",
       "      <td>...</td>\n",
       "      <td>...</td>\n",
       "      <td>...</td>\n",
       "    </tr>\n",
       "    <tr>\n",
       "      <th>2015</th>\n",
       "      <td>Brazil</td>\n",
       "      <td>18.0 [13.9-22.6]</td>\n",
       "      <td>Male</td>\n",
       "      <td>18.0</td>\n",
       "    </tr>\n",
       "    <tr>\n",
       "      <th>2015</th>\n",
       "      <td>Brazil</td>\n",
       "      <td>24.9 [20.3-29.8]</td>\n",
       "      <td>Female</td>\n",
       "      <td>24.9</td>\n",
       "    </tr>\n",
       "    <tr>\n",
       "      <th>2016</th>\n",
       "      <td>Brazil</td>\n",
       "      <td>22.1 [18.7-25.7]</td>\n",
       "      <td>Both sexes</td>\n",
       "      <td>22.1</td>\n",
       "    </tr>\n",
       "    <tr>\n",
       "      <th>2016</th>\n",
       "      <td>Brazil</td>\n",
       "      <td>18.5 [14.1-23.5]</td>\n",
       "      <td>Male</td>\n",
       "      <td>18.5</td>\n",
       "    </tr>\n",
       "    <tr>\n",
       "      <th>2016</th>\n",
       "      <td>Brazil</td>\n",
       "      <td>25.4 [20.4-30.7]</td>\n",
       "      <td>Female</td>\n",
       "      <td>25.4</td>\n",
       "    </tr>\n",
       "  </tbody>\n",
       "</table>\n",
       "<p>126 rows × 4 columns</p>\n",
       "</div>"
      ],
      "text/plain": [
       "     Country       Obesity (%)         Sex  Obesity\n",
       "Year                                               \n",
       "1975  Brazil     5.2 [3.3-7.9]  Both sexes      5.2\n",
       "1975  Brazil     3.0 [1.4-5.7]        Male      3.0\n",
       "1975  Brazil    7.3 [4.0-12.0]      Female      7.3\n",
       "1976  Brazil     5.5 [3.5-8.1]  Both sexes      5.5\n",
       "1976  Brazil     3.2 [1.5-5.8]        Male      3.2\n",
       "...      ...               ...         ...      ...\n",
       "2015  Brazil  18.0 [13.9-22.6]        Male     18.0\n",
       "2015  Brazil  24.9 [20.3-29.8]      Female     24.9\n",
       "2016  Brazil  22.1 [18.7-25.7]  Both sexes     22.1\n",
       "2016  Brazil  18.5 [14.1-23.5]        Male     18.5\n",
       "2016  Brazil  25.4 [20.4-30.7]      Female     25.4\n",
       "\n",
       "[126 rows x 4 columns]"
      ]
     },
     "execution_count": 490,
     "metadata": {},
     "output_type": "execute_result"
    }
   ],
   "source": [
    "df_brazil"
   ]
  },
  {
   "cell_type": "code",
   "execution_count": 493,
   "id": "8690ab75",
   "metadata": {},
   "outputs": [
    {
     "data": {
      "text/plain": [
       "<AxesSubplot:xlabel='Year'>"
      ]
     },
     "execution_count": 493,
     "metadata": {},
     "output_type": "execute_result"
    },
    {
     "data": {
      "image/png": "[encoded data removed]",
      "text/plain": [
       "<Figure size 432x288 with 1 Axes>"
      ]
     },
     "metadata": {
      "needs_background": "light"
     },
     "output_type": "display_data"
    }
   ],
   "source": [
    "(df_brazil[df_brazil['Sex'] == 'Female']['Obesity'] - df_brazil[df_brazil['Sex'] == 'Male']['Obesity']).plot()"
   ]
  },
  {
   "cell_type": "code",
   "execution_count": 307,
   "id": "later-occurrence",
   "metadata": {},
   "outputs": [],
   "source": [
    "female_obesity_years = df_obesity[(df_obesity['Sex'] == 'Female') & (df_obesity['Country'] == 'Brazil')][['Obesity', 'Year']].set_index('Year')"
   ]
  },
  {
   "cell_type": "code",
   "execution_count": 315,
   "id": "edd53eae",
   "metadata": {},
   "outputs": [],
   "source": [
    "male_obesity_years = df_obesity[(df_obesity['Sex'] == 'Male') & (df_obesity['Country'] == 'Brazil')][['Obesity', 'Year']].set_index('Year')"
   ]
  },
  {
   "cell_type": "code",
   "execution_count": 321,
   "id": "7fa63f9f",
   "metadata": {},
   "outputs": [
    {
     "data": {
      "text/plain": [
       "Obesity    15.85\n",
       "dtype: float64"
      ]
     },
     "execution_count": 321,
     "metadata": {},
     "output_type": "execute_result"
    }
   ],
   "source": [
    "female_obesity_years.mean()"
   ]
  },
  {
   "cell_type": "code",
   "execution_count": 322,
   "id": "847af2bb",
   "metadata": {},
   "outputs": [
    {
     "data": {
      "text/plain": [
       "Obesity    9.671429\n",
       "dtype: float64"
      ]
     },
     "execution_count": 322,
     "metadata": {},
     "output_type": "execute_result"
    }
   ],
   "source": [
    "male_obesity_years.mean()"
   ]
  },
  {
   "cell_type": "code",
   "execution_count": 320,
   "id": "ccdebcdb",
   "metadata": {},
   "outputs": [
    {
     "data": {
      "text/plain": [
       "Obesity    6.178571\n",
       "dtype: float64"
      ]
     },
     "execution_count": 320,
     "metadata": {},
     "output_type": "execute_result"
    }
   ],
   "source": [
    "(female_obesity_years - male_obesity_years).mean()"
   ]
  },
  {
   "cell_type": "markdown",
   "id": "rising-exhaust",
   "metadata": {},
   "source": [
    "- Você conseguiria plotar um gráfico mostrando a evolução da obesidade para ambos sexos no mundo?"
   ]
  },
  {
   "cell_type": "code",
   "execution_count": 333,
   "id": "senior-recruitment",
   "metadata": {},
   "outputs": [
    {
     "data": {
      "text/plain": [
       "<AxesSubplot:xlabel='Year'>"
      ]
     },
     "execution_count": 333,
     "metadata": {},
     "output_type": "execute_result"
    },
    {
     "data": {
      "image/png": "[encoded data removed]",
      "text/plain": [
       "<Figure size 432x288 with 1 Axes>"
      ]
     },
     "metadata": {
      "needs_background": "light"
     },
     "output_type": "display_data"
    }
   ],
   "source": [
    "df_obesity[(df_obesity['Sex'] == 'Female') & (df_obesity['Country'] == 'Brazil')][['Obesity', 'Year']].set_index('Year').plot()"
   ]
  },
  {
   "cell_type": "code",
   "execution_count": 494,
   "id": "1d7bbfcd",
   "metadata": {},
   "outputs": [
    {
     "data": {
      "text/plain": [
       "<AxesSubplot:xlabel='Year'>"
      ]
     },
     "execution_count": 494,
     "metadata": {},
     "output_type": "execute_result"
    },
    {
     "data": {
      "image/png": "[encoded data removed]",
      "text/plain": [
       "<Figure size 432x288 with 1 Axes>"
      ]
     },
     "metadata": {
      "needs_background": "light"
     },
     "output_type": "display_data"
    }
   ],
   "source": [
    "df_obesity[(df_obesity['Sex'] == 'Male') & (df_obesity['Country'] == 'Brazil')][['Obesity','Year']].set_index('Year').plot()"
   ]
  },
  {
   "cell_type": "code",
   "execution_count": 497,
   "id": "3aa68973",
   "metadata": {},
   "outputs": [],
   "source": [
    "df_ambos_sexos = df_obesity[df_obesity['Sex'] == 'Both sexes']"
   ]
  },
  {
   "cell_type": "code",
   "execution_count": 500,
   "id": "5bf1fe7d",
   "metadata": {},
   "outputs": [
    {
     "data": {
      "text/plain": [
       "<AxesSubplot:xlabel='Year'>"
      ]
     },
     "execution_count": 500,
     "metadata": {},
     "output_type": "execute_result"
    },
    {
     "data": {
      "image/png": "[encoded data removed]",
      "text/plain": [
       "<Figure size 432x288 with 1 Axes>"
      ]
     },
     "metadata": {
      "needs_background": "light"
     },
     "output_type": "display_data"
    }
   ],
   "source": [
    "df_ambos_sexos.groupby('Year')['Obesity'].mean().plot()"
   ]
  },
  {
   "cell_type": "markdown",
   "id": "labeled-rainbow",
   "metadata": {},
   "source": [
    "## Perguntas - GDP Per Person (1901-2011)"
   ]
  },
  {
   "cell_type": "code",
   "execution_count": 919,
   "id": "thermal-breeding",
   "metadata": {},
   "outputs": [],
   "source": [
    "df_gdp = pd.read_csv(\"Datasets/GDP.csv\", decimal=\".\")"
   ]
  },
  {
   "cell_type": "code",
   "execution_count": 920,
   "id": "3d37be5c",
   "metadata": {},
   "outputs": [
    {
     "data": {
      "text/html": [
       "<div>\n",
       "<style scoped>\n",
       "    .dataframe tbody tr th:only-of-type {\n",
       "        vertical-align: middle;\n",
       "    }\n",
       "\n",
       "    .dataframe tbody tr th {\n",
       "        vertical-align: top;\n",
       "    }\n",
       "\n",
       "    .dataframe thead th {\n",
       "        text-align: right;\n",
       "    }\n",
       "</style>\n",
       "<table border=\"1\" class=\"dataframe\">\n",
       "  <thead>\n",
       "    <tr style=\"text-align: right;\">\n",
       "      <th></th>\n",
       "      <th>Country</th>\n",
       "      <th>Region</th>\n",
       "      <th>Year</th>\n",
       "      <th>GDP_pp</th>\n",
       "    </tr>\n",
       "  </thead>\n",
       "  <tbody>\n",
       "    <tr>\n",
       "      <th>0</th>\n",
       "      <td>Afghanistan</td>\n",
       "      <td>Middle East, North Africa, and Greater Arabia</td>\n",
       "      <td>1/1/1901</td>\n",
       "      <td>613.99</td>\n",
       "    </tr>\n",
       "    <tr>\n",
       "      <th>1</th>\n",
       "      <td>Afghanistan</td>\n",
       "      <td>Middle East, North Africa, and Greater Arabia</td>\n",
       "      <td>1/1/1906</td>\n",
       "      <td>624.04</td>\n",
       "    </tr>\n",
       "    <tr>\n",
       "      <th>2</th>\n",
       "      <td>Afghanistan</td>\n",
       "      <td>Middle East, North Africa, and Greater Arabia</td>\n",
       "      <td>1/1/1911</td>\n",
       "      <td>634.25</td>\n",
       "    </tr>\n",
       "    <tr>\n",
       "      <th>3</th>\n",
       "      <td>Afghanistan</td>\n",
       "      <td>Middle East, North Africa, and Greater Arabia</td>\n",
       "      <td>1/1/1916</td>\n",
       "      <td>647.28</td>\n",
       "    </tr>\n",
       "    <tr>\n",
       "      <th>4</th>\n",
       "      <td>Afghanistan</td>\n",
       "      <td>Middle East, North Africa, and Greater Arabia</td>\n",
       "      <td>1/1/1921</td>\n",
       "      <td>662.40</td>\n",
       "    </tr>\n",
       "    <tr>\n",
       "      <th>...</th>\n",
       "      <td>...</td>\n",
       "      <td>...</td>\n",
       "      <td>...</td>\n",
       "      <td>...</td>\n",
       "    </tr>\n",
       "    <tr>\n",
       "      <th>4414</th>\n",
       "      <td>Zimbabwe</td>\n",
       "      <td>Sub-Saharan Africa</td>\n",
       "      <td>1/1/1991</td>\n",
       "      <td>782.09</td>\n",
       "    </tr>\n",
       "    <tr>\n",
       "      <th>4415</th>\n",
       "      <td>Zimbabwe</td>\n",
       "      <td>Sub-Saharan Africa</td>\n",
       "      <td>1/1/1996</td>\n",
       "      <td>781.50</td>\n",
       "    </tr>\n",
       "    <tr>\n",
       "      <th>4416</th>\n",
       "      <td>Zimbabwe</td>\n",
       "      <td>Sub-Saharan Africa</td>\n",
       "      <td>1/1/2001</td>\n",
       "      <td>719.96</td>\n",
       "    </tr>\n",
       "    <tr>\n",
       "      <th>4417</th>\n",
       "      <td>Zimbabwe</td>\n",
       "      <td>Sub-Saharan Africa</td>\n",
       "      <td>1/1/2006</td>\n",
       "      <td>520.17</td>\n",
       "    </tr>\n",
       "    <tr>\n",
       "      <th>4418</th>\n",
       "      <td>Zimbabwe</td>\n",
       "      <td>Sub-Saharan Africa</td>\n",
       "      <td>1/1/2011</td>\n",
       "      <td>526.33</td>\n",
       "    </tr>\n",
       "  </tbody>\n",
       "</table>\n",
       "<p>4419 rows × 4 columns</p>\n",
       "</div>"
      ],
      "text/plain": [
       "          Country                                         Region      Year  \\\n",
       "0     Afghanistan  Middle East, North Africa, and Greater Arabia  1/1/1901   \n",
       "1     Afghanistan  Middle East, North Africa, and Greater Arabia  1/1/1906   \n",
       "2     Afghanistan  Middle East, North Africa, and Greater Arabia  1/1/1911   \n",
       "3     Afghanistan  Middle East, North Africa, and Greater Arabia  1/1/1916   \n",
       "4     Afghanistan  Middle East, North Africa, and Greater Arabia  1/1/1921   \n",
       "...           ...                                            ...       ...   \n",
       "4414     Zimbabwe                             Sub-Saharan Africa  1/1/1991   \n",
       "4415     Zimbabwe                             Sub-Saharan Africa  1/1/1996   \n",
       "4416     Zimbabwe                             Sub-Saharan Africa  1/1/2001   \n",
       "4417     Zimbabwe                             Sub-Saharan Africa  1/1/2006   \n",
       "4418     Zimbabwe                             Sub-Saharan Africa  1/1/2011   \n",
       "\n",
       "       GDP_pp   \n",
       "0      613.99   \n",
       "1      624.04   \n",
       "2      634.25   \n",
       "3      647.28   \n",
       "4      662.40   \n",
       "...        ...  \n",
       "4414   782.09   \n",
       "4415   781.50   \n",
       "4416   719.96   \n",
       "4417   520.17   \n",
       "4418   526.33   \n",
       "\n",
       "[4419 rows x 4 columns]"
      ]
     },
     "execution_count": 920,
     "metadata": {},
     "output_type": "execute_result"
    }
   ],
   "source": [
    "df_gdp"
   ]
  },
  {
   "cell_type": "markdown",
   "id": "suffering-guitar",
   "metadata": {},
   "source": [
    "- Limpe o conjunto de dados, convertendo strings em datas ou float, quando necessário."
   ]
  },
  {
   "cell_type": "code",
   "execution_count": 921,
   "id": "fundamental-occasions",
   "metadata": {},
   "outputs": [
    {
     "name": "stdout",
     "output_type": "stream",
     "text": [
      "<class 'pandas.core.frame.DataFrame'>\n",
      "RangeIndex: 4419 entries, 0 to 4418\n",
      "Data columns (total 4 columns):\n",
      " #   Column    Non-Null Count  Dtype \n",
      "---  ------    --------------  ----- \n",
      " 0   Country   4419 non-null   object\n",
      " 1   Region    4419 non-null   object\n",
      " 2   Year      4419 non-null   object\n",
      " 3    GDP_pp   4419 non-null   object\n",
      "dtypes: object(4)\n",
      "memory usage: 138.2+ KB\n"
     ]
    }
   ],
   "source": [
    "df_gdp.info()"
   ]
  },
  {
   "cell_type": "code",
   "execution_count": 922,
   "id": "f96544ee",
   "metadata": {},
   "outputs": [],
   "source": [
    "#Correção do Professor\n",
    "# df_gdp['Year'] = df_gdp['Year'].apply(lambda x : int(x.split('/')[-1]))"
   ]
  },
  {
   "cell_type": "code",
   "execution_count": 923,
   "id": "ebd33f6d",
   "metadata": {},
   "outputs": [],
   "source": [
    "df_gdp['Year'] = df_gdp['Year'].apply(lambda x : pd.to_datetime(x).year)"
   ]
  },
  {
   "cell_type": "code",
   "execution_count": 924,
   "id": "d1462a6b",
   "metadata": {},
   "outputs": [],
   "source": [
    "#Correção do Professor\n",
    "# df_gdp['gdp'] = df_gdp[' GDP_pp '].apply(lambda x : float(x.strip().replace(',', '')))"
   ]
  },
  {
   "cell_type": "code",
   "execution_count": 925,
   "id": "3429ced2",
   "metadata": {},
   "outputs": [],
   "source": [
    "df_gdp['gdp'] = df_gdp[' GDP_pp '].str.strip().str.replace(',', '').astype(float)"
   ]
  },
  {
   "cell_type": "code",
   "execution_count": 926,
   "id": "a919236a",
   "metadata": {},
   "outputs": [],
   "source": [
    "del df_gdp[' GDP_pp ']"
   ]
  },
  {
   "cell_type": "markdown",
   "id": "studied-validity",
   "metadata": {},
   "source": [
    "- Você conseguiria informar o primeiro valor registrado de cada país?"
   ]
  },
  {
   "cell_type": "code",
   "execution_count": 927,
   "id": "frequent-rental",
   "metadata": {},
   "outputs": [
    {
     "data": {
      "text/plain": [
       "Country\n",
       "Kosovo    1991\n",
       "Name: Year, dtype: int64"
      ]
     },
     "execution_count": 927,
     "metadata": {},
     "output_type": "execute_result"
    }
   ],
   "source": [
    "df_gdp.groupby('Country')['Year'].min()[df_gdp.groupby('Country')['Year'].min() == 1991]"
   ]
  },
  {
   "cell_type": "markdown",
   "id": "tutorial-softball",
   "metadata": {},
   "source": [
    "- Informe as regiões com maiores crescimentos de PIB per capita no século passado."
   ]
  },
  {
   "cell_type": "code",
   "execution_count": 928,
   "id": "given-colorado",
   "metadata": {},
   "outputs": [
    {
     "data": {
      "text/plain": [
       "Region\n",
       "Middle East, North Africa, and Greater Arabia    857.215950\n",
       "Asia                                             711.761516\n",
       "Europe                                           594.046167\n",
       "North America                                    589.760175\n",
       "Central America and the Caribbean                406.426789\n",
       "Australia and Oceania                            396.075383\n",
       "South America                                    312.123735\n",
       "Sub-Saharan Africa                               248.633780\n",
       "Name: gdp, dtype: float64"
      ]
     },
     "execution_count": 928,
     "metadata": {},
     "output_type": "execute_result"
    }
   ],
   "source": [
    "#Tinha entendido que era cresicmento médio no seculo passado por região\n",
    "#df_gdp[(df_gdp['Year']  >= 1901) & (df_gdp['Year'] < 2000)][['Region','gdp']].groupby('Region').mean().sort_values('gdp', ascending=False)\n",
    "\n",
    "df_gdp_inicio = df_gdp[df_gdp['Year'] == 1901]\n",
    "df_gdp_fim = df_gdp[df_gdp['Year'] == 1996]\n",
    "\n",
    "(((df_gdp_fim.groupby('Region')['gdp'].mean() / df_gdp_inicio.groupby('Region')['gdp'].mean()) -1) *100).sort_values(ascending=False)"
   ]
  },
  {
   "cell_type": "markdown",
   "id": "textile-afternoon",
   "metadata": {},
   "source": [
    "- Preecha os anos ausentes em cada país com uma estimativa, baseada na diferença entre o próximo registro e o anterior."
   ]
  },
  {
   "cell_type": "code",
   "execution_count": 929,
   "id": "hydraulic-confidentiality",
   "metadata": {},
   "outputs": [
    {
     "name": "stdout",
     "output_type": "stream",
     "text": [
      "Tempo de execução: 18.68323826789856 segundos\n"
     ]
    }
   ],
   "source": [
    "#import time\n",
    "#t1 = time.time()\n",
    "\n",
    "lista = []\n",
    "for j in range(len(df_gdp.index) - 1):\n",
    "    #print((df_gdp.iloc[j + 1]['Year'] - df_gdp.iloc[j]['Year']))\n",
    "    if (df_gdp.iloc[j + 1]['Year'] - df_gdp.iloc[j]['Year'])== 5:\n",
    "        for i in range(4):\n",
    "            registro = {}\n",
    "            registro['Country'] = df_gdp.iloc[j]['Country']\n",
    "            registro['Region'] = df_gdp.iloc[j]['Region']\n",
    "            registro['Year'] = df_gdp.iloc[j]['Year'] + (i  + 1)\n",
    "            registro['gdp'] = df_gdp.iloc[j]['gdp'] + (((df_gdp.iloc[j + 1]['gdp'] - df_gdp.iloc[j]['gdp']) / 5)* (i + 1))\n",
    "            \n",
    "            #Demora 5x mais o tempo de execução\n",
    "            #df_gdp = df_gdp.append(registro, ignore_index=True)\n",
    "            \n",
    "            lista.append(registro)\n",
    "            \n",
    "df_gdp = df_gdp.append(lista)\n",
    "\n",
    "#tempoExec = time.time() - t1\n",
    "#print(\"Tempo de execução: {} segundos\".format(tempoExec))"
   ]
  },
  {
   "cell_type": "code",
   "execution_count": 930,
   "id": "664893ef",
   "metadata": {},
   "outputs": [
    {
     "data": {
      "text/html": [
       "<div>\n",
       "<style scoped>\n",
       "    .dataframe tbody tr th:only-of-type {\n",
       "        vertical-align: middle;\n",
       "    }\n",
       "\n",
       "    .dataframe tbody tr th {\n",
       "        vertical-align: top;\n",
       "    }\n",
       "\n",
       "    .dataframe thead th {\n",
       "        text-align: right;\n",
       "    }\n",
       "</style>\n",
       "<table border=\"1\" class=\"dataframe\">\n",
       "  <thead>\n",
       "    <tr style=\"text-align: right;\">\n",
       "      <th></th>\n",
       "      <th>Country</th>\n",
       "      <th>Region</th>\n",
       "      <th>Year</th>\n",
       "      <th>gdp</th>\n",
       "    </tr>\n",
       "  </thead>\n",
       "  <tbody>\n",
       "    <tr>\n",
       "      <th>0</th>\n",
       "      <td>Afghanistan</td>\n",
       "      <td>Middle East, North Africa, and Greater Arabia</td>\n",
       "      <td>1901</td>\n",
       "      <td>613.990</td>\n",
       "    </tr>\n",
       "    <tr>\n",
       "      <th>0</th>\n",
       "      <td>Afghanistan</td>\n",
       "      <td>Middle East, North Africa, and Greater Arabia</td>\n",
       "      <td>1902</td>\n",
       "      <td>616.000</td>\n",
       "    </tr>\n",
       "    <tr>\n",
       "      <th>1</th>\n",
       "      <td>Afghanistan</td>\n",
       "      <td>Middle East, North Africa, and Greater Arabia</td>\n",
       "      <td>1903</td>\n",
       "      <td>618.010</td>\n",
       "    </tr>\n",
       "    <tr>\n",
       "      <th>2</th>\n",
       "      <td>Afghanistan</td>\n",
       "      <td>Middle East, North Africa, and Greater Arabia</td>\n",
       "      <td>1904</td>\n",
       "      <td>620.020</td>\n",
       "    </tr>\n",
       "    <tr>\n",
       "      <th>3</th>\n",
       "      <td>Afghanistan</td>\n",
       "      <td>Middle East, North Africa, and Greater Arabia</td>\n",
       "      <td>1905</td>\n",
       "      <td>622.030</td>\n",
       "    </tr>\n",
       "    <tr>\n",
       "      <th>...</th>\n",
       "      <td>...</td>\n",
       "      <td>...</td>\n",
       "      <td>...</td>\n",
       "      <td>...</td>\n",
       "    </tr>\n",
       "    <tr>\n",
       "      <th>16900</th>\n",
       "      <td>Zimbabwe</td>\n",
       "      <td>Sub-Saharan Africa</td>\n",
       "      <td>2007</td>\n",
       "      <td>521.402</td>\n",
       "    </tr>\n",
       "    <tr>\n",
       "      <th>16901</th>\n",
       "      <td>Zimbabwe</td>\n",
       "      <td>Sub-Saharan Africa</td>\n",
       "      <td>2008</td>\n",
       "      <td>522.634</td>\n",
       "    </tr>\n",
       "    <tr>\n",
       "      <th>16902</th>\n",
       "      <td>Zimbabwe</td>\n",
       "      <td>Sub-Saharan Africa</td>\n",
       "      <td>2009</td>\n",
       "      <td>523.866</td>\n",
       "    </tr>\n",
       "    <tr>\n",
       "      <th>16903</th>\n",
       "      <td>Zimbabwe</td>\n",
       "      <td>Sub-Saharan Africa</td>\n",
       "      <td>2010</td>\n",
       "      <td>525.098</td>\n",
       "    </tr>\n",
       "    <tr>\n",
       "      <th>4418</th>\n",
       "      <td>Zimbabwe</td>\n",
       "      <td>Sub-Saharan Africa</td>\n",
       "      <td>2011</td>\n",
       "      <td>526.330</td>\n",
       "    </tr>\n",
       "  </tbody>\n",
       "</table>\n",
       "<p>21323 rows × 4 columns</p>\n",
       "</div>"
      ],
      "text/plain": [
       "           Country                                         Region  Year  \\\n",
       "0      Afghanistan  Middle East, North Africa, and Greater Arabia  1901   \n",
       "0      Afghanistan  Middle East, North Africa, and Greater Arabia  1902   \n",
       "1      Afghanistan  Middle East, North Africa, and Greater Arabia  1903   \n",
       "2      Afghanistan  Middle East, North Africa, and Greater Arabia  1904   \n",
       "3      Afghanistan  Middle East, North Africa, and Greater Arabia  1905   \n",
       "...            ...                                            ...   ...   \n",
       "16900     Zimbabwe                             Sub-Saharan Africa  2007   \n",
       "16901     Zimbabwe                             Sub-Saharan Africa  2008   \n",
       "16902     Zimbabwe                             Sub-Saharan Africa  2009   \n",
       "16903     Zimbabwe                             Sub-Saharan Africa  2010   \n",
       "4418      Zimbabwe                             Sub-Saharan Africa  2011   \n",
       "\n",
       "           gdp  \n",
       "0      613.990  \n",
       "0      616.000  \n",
       "1      618.010  \n",
       "2      620.020  \n",
       "3      622.030  \n",
       "...        ...  \n",
       "16900  521.402  \n",
       "16901  522.634  \n",
       "16902  523.866  \n",
       "16903  525.098  \n",
       "4418   526.330  \n",
       "\n",
       "[21323 rows x 4 columns]"
      ]
     },
     "execution_count": 930,
     "metadata": {},
     "output_type": "execute_result"
    }
   ],
   "source": [
    "df_gdp.sort_values(['Country','Year'])"
   ]
  },
  {
   "cell_type": "code",
   "execution_count": 836,
   "id": "b4129a97",
   "metadata": {},
   "outputs": [],
   "source": [
    "df_aux = pd.DataFrame(columns= df_gdp.columns)"
   ]
  },
  {
   "cell_type": "code",
   "execution_count": 841,
   "id": "ffe08a67",
   "metadata": {},
   "outputs": [],
   "source": [
    "i = 0\n",
    "j = 0\n",
    "\n",
    "registro = {}\n",
    "registro['Country'] = df_gdp.iloc[j]['Country']\n",
    "registro['Regison'] = df_gdp.iloc[j]['Region']\n",
    "registro['Year'] = df_gdp.iloc[j]['Year'] + (i  + 1)\n",
    "registro['gdp'] = df_gdp.iloc[j]['gdp'] + (((df_gdp.iloc[j]['gdp'] - df_gdp.iloc[j + 1]['gdp']) / 5)* (i + 1))\n",
    "            "
   ]
  },
  {
   "cell_type": "code",
   "execution_count": 843,
   "id": "9456307f",
   "metadata": {},
   "outputs": [],
   "source": [
    "lista = []\n",
    "lista.append(registro)"
   ]
  },
  {
   "cell_type": "code",
   "execution_count": 844,
   "id": "1e9ad7ae",
   "metadata": {},
   "outputs": [
    {
     "data": {
      "text/plain": [
       "[{'Country': 'Afghanistan',\n",
       "  'Regison': 'Middle East, North Africa, and Greater Arabia',\n",
       "  'Year': 1902,\n",
       "  'gdp': 611.98}]"
      ]
     },
     "execution_count": 844,
     "metadata": {},
     "output_type": "execute_result"
    }
   ],
   "source": [
    "lista"
   ]
  },
  {
   "cell_type": "markdown",
   "id": "revised-helicopter",
   "metadata": {},
   "source": [
    "### DESAFIOS\n",
    "- Você conseguiria criar um mapa do gdp ou da obesidade no mundo ao longo dos anos?"
   ]
  },
  {
   "cell_type": "code",
   "execution_count": null,
   "id": "advised-sample",
   "metadata": {},
   "outputs": [],
   "source": []
  },
  {
   "cell_type": "markdown",
   "id": "lesbian-flight",
   "metadata": {},
   "source": [
    "- Há uma relação entre níveis de obesidade e gdp per capita?"
   ]
  },
  {
   "cell_type": "code",
   "execution_count": null,
   "id": "fluid-enemy",
   "metadata": {},
   "outputs": [],
   "source": []
  }
 ],
 "metadata": {
  "kernelspec": {
   "display_name": "Python 3",
   "language": "python",
   "name": "python3"
  },
  "language_info": {
   "codemirror_mode": {
    "name": "ipython",
    "version": 3
   },
   "file_extension": ".py",
   "mimetype": "text/x-python",
   "name": "python",
   "nbconvert_exporter": "python",
   "pygments_lexer": "ipython3",
   "version": "3.8.8"
  }
 },
 "nbformat": 4,
 "nbformat_minor": 5
}
